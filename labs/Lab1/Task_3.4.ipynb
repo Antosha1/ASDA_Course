{
 "cells": [
  {
   "cell_type": "markdown",
   "metadata": {},
   "source": [
    "## Задание 3.4"
   ]
  },
  {
   "cell_type": "markdown",
   "metadata": {},
   "source": [
    "Даны результаты работы двух машинных переводчиков на небольших выборках переводов для разных языковых пар.\n",
    "\n",
    "Стандартная оценка качества перевода производится с использованием специальной метрики BLEU.\n",
    "\n",
    "Требуется определить:\n",
    "\n",
    "* превосходит ли один переводчик в среднем по парам второй переводчик по переводу\n",
    "* связано ли качество перевода для разных языковых пар для двух переводчиков?\n",
    "При подсчете BLEU учитывать только слова, регистр не учитывать.\n",
    "\n",
    "**Формат данных:**\n",
    "\n",
    "Названиие файлов имеет формат lang1_lang2_<translator_id>.txt:\n",
    "\n",
    "lang_1, lang_2 - языки (перевод с lang_1 на lang_2).\n",
    "\n",
    "gold - эталонный вариант, с которым сравнивается перевод от систем машинного перевода."
   ]
  },
  {
   "cell_type": "code",
   "execution_count": 20,
   "metadata": {},
   "outputs": [],
   "source": [
    "import numpy as np\n",
    "import pandas as pd\n",
    "import scipy.stats as st\n",
    "import matplotlib.pyplot as plt\n",
    "from nltk.translate import bleu_score\n",
    "from nltk.tokenize import word_tokenize\n",
    "from pprint import pprint"
   ]
  },
  {
   "cell_type": "code",
   "execution_count": 11,
   "metadata": {},
   "outputs": [],
   "source": [
    "path = 'data/mt/'\n",
    "\n",
    "langs = ['de_en', 'en_kk', 'en_ru', 'ru_de', 'ru_kk']\n",
    "transls = ['_1.txt', '_2.txt', '_gold.txt']\n",
    "\n",
    "corpus = {pair:{} for pair in langs}"
   ]
  },
  {
   "cell_type": "code",
   "execution_count": 12,
   "metadata": {},
   "outputs": [
    {
     "data": {
      "text/plain": [
       "{'de_en': {}, 'en_kk': {}, 'en_ru': {}, 'ru_de': {}, 'ru_kk': {}}"
      ]
     },
     "execution_count": 12,
     "metadata": {},
     "output_type": "execute_result"
    }
   ],
   "source": [
    "corpus"
   ]
  },
  {
   "cell_type": "markdown",
   "metadata": {},
   "source": [
    "Считаем в словарь corpus данные наших переводов. Также сведем все слова к нижнему регистру и отфильтруем пустые строки в наших переводах."
   ]
  },
  {
   "cell_type": "code",
   "execution_count": 31,
   "metadata": {},
   "outputs": [],
   "source": [
    "for pair in langs:\n",
    "    for trans_type in transls:\n",
    "        new_path = path + pair + trans_type \n",
    "        with open(new_path, 'r', encoding='utf-8') as f:\n",
    "            corpus[pair][trans_type] = f.read().lower().split('\\n')\n",
    "            corpus[pair][trans_type] = list(filter(lambda x: x if len(x) > 0 else None, corpus[pair][trans_type]))"
   ]
  },
  {
   "cell_type": "markdown",
   "metadata": {},
   "source": [
    "Посмотрим, правильно ли все работает."
   ]
  },
  {
   "cell_type": "code",
   "execution_count": 32,
   "metadata": {},
   "outputs": [
    {
     "name": "stdout",
     "output_type": "stream",
     "text": [
      "['через неделю , 1 сентября , германия начала вторжение в польшу .',\n",
      " '29 марта 2004 года литва вступила в нато .',\n",
      " 'россия также подразделяется на 9 федеральных округов , в каждом из которых '\n",
      " 'работает полномочный представитель президента россии .',\n",
      " 'обладает правом издания указов , обязательных для исполнения на всей '\n",
      " 'территории россии ( указы не должны противоречить федеральным законам ) .',\n",
      " 'число занятых в промышленности — 27,5 % трудоспособного населения .',\n",
      " 'традиционно в россии популярны настольные интеллектуальные игры .',\n",
      " '* сайт комиссии при президенте российской федерации по модернизации и '\n",
      " 'технологическому развитию экономики россии .',\n",
      " 'о статусе соционики существуют противоположные мнения .',\n",
      " '* лингвистика языка изучает язык как код , то есть систему объективно '\n",
      " 'существующих социально закреплённых знаков и правил их употребления и '\n",
      " 'сочетаемости .',\n",
      " 'д .']\n"
     ]
    }
   ],
   "source": [
    "pprint(corpus['en_ru']['_gold.txt'][:10])"
   ]
  },
  {
   "cell_type": "markdown",
   "metadata": {},
   "source": [
    "Реализуем функцию оценивания BLEU."
   ]
  },
  {
   "cell_type": "code",
   "execution_count": 33,
   "metadata": {},
   "outputs": [],
   "source": [
    "from nltk.translate.bleu_score import SmoothingFunction\n",
    "smoothie = SmoothingFunction().method1"
   ]
  },
  {
   "cell_type": "code",
   "execution_count": 38,
   "metadata": {},
   "outputs": [],
   "source": [
    "def BLEU(trans_1, trans_2):\n",
    "    result = []\n",
    "    \n",
    "    for idx, sentence_1 in enumerate(trans_1):\n",
    "        result.append(bleu_score.sentence_bleu(sentence_1, trans_2[idx], smoothing_function=smoothie))\n",
    "    \n",
    "    return np.cumsum(result)[-1]/len(trans_1)"
   ]
  },
  {
   "cell_type": "code",
   "execution_count": 43,
   "metadata": {},
   "outputs": [
    {
     "name": "stdout",
     "output_type": "stream",
     "text": [
      "For de_en pair: BLEU_1 = 0.006, BLEU_2 = 0.006, difference = True\n",
      "For en_kk pair: BLEU_1 = 0.012, BLEU_2 = 0.012, difference = True\n",
      "For en_ru pair: BLEU_1 = 0.012, BLEU_2 = 0.015, difference = False\n",
      "For ru_de pair: BLEU_1 = 0.005, BLEU_2 = 0.005, difference = False\n",
      "For ru_kk pair: BLEU_1 = 0.009, BLEU_2 = 0.009, difference = False\n"
     ]
    }
   ],
   "source": [
    "for num, pair in enumerate(langs):\n",
    "    print('For {} pair: BLEU_1 = {:.3f}, BLEU_2 = {:.3f}, difference = {}'.format(langs[num], BLEU(corpus[pair][transls[0]], corpus[pair][transls[2]]),\n",
    "                                                                                    BLEU(corpus[pair][transls[1]], corpus[pair][transls[2]]),\n",
    "                                                                                    bool(BLEU(corpus[pair][transls[0]], corpus[pair][transls[2]]) - BLEU(corpus[pair][transls[1]], corpus[pair][transls[2]]) > 0)))\n",
    "    #print(BLEU(corpus[pair][transls[0]], corpus[pair][transls[2]]))"
   ]
  },
  {
   "cell_type": "markdown",
   "metadata": {},
   "source": [
    "Из полученных выше результатов видно, что все зависит от пары языков, между которыми происходит перевод. Далее, для удобства использования статистических критериев, загоним наши результаты в DataFrame."
   ]
  },
  {
   "cell_type": "code",
   "execution_count": 47,
   "metadata": {},
   "outputs": [],
   "source": [
    "data = pd.DataFrame(columns=['BLEU_1', 'BLEU_2'])"
   ]
  },
  {
   "cell_type": "code",
   "execution_count": 49,
   "metadata": {},
   "outputs": [],
   "source": [
    "for pair in langs:\n",
    "    row = []\n",
    "    row.append(BLEU(corpus[pair][transls[0]], corpus[pair][transls[2]]))\n",
    "    row.append(BLEU(corpus[pair][transls[1]], corpus[pair][transls[2]]))\n",
    "    row.append(bool(BLEU(corpus[pair][transls[0]], corpus[pair][transls[2]]) - BLEU(corpus[pair][transls[1]], corpus[pair][transls[2]]) > 0))\n",
    "    data.loc[pair] = row"
   ]
  },
  {
   "cell_type": "code",
   "execution_count": 50,
   "metadata": {},
   "outputs": [
    {
     "data": {
      "text/html": [
       "<div>\n",
       "<style scoped>\n",
       "    .dataframe tbody tr th:only-of-type {\n",
       "        vertical-align: middle;\n",
       "    }\n",
       "\n",
       "    .dataframe tbody tr th {\n",
       "        vertical-align: top;\n",
       "    }\n",
       "\n",
       "    .dataframe thead th {\n",
       "        text-align: right;\n",
       "    }\n",
       "</style>\n",
       "<table border=\"1\" class=\"dataframe\">\n",
       "  <thead>\n",
       "    <tr style=\"text-align: right;\">\n",
       "      <th></th>\n",
       "      <th>BLEU_1</th>\n",
       "      <th>BLEU_2</th>\n",
       "      <th>Best</th>\n",
       "    </tr>\n",
       "  </thead>\n",
       "  <tbody>\n",
       "    <tr>\n",
       "      <th>de_en</th>\n",
       "      <td>0.006103</td>\n",
       "      <td>0.006008</td>\n",
       "      <td>True</td>\n",
       "    </tr>\n",
       "    <tr>\n",
       "      <th>en_kk</th>\n",
       "      <td>0.011882</td>\n",
       "      <td>0.011845</td>\n",
       "      <td>True</td>\n",
       "    </tr>\n",
       "    <tr>\n",
       "      <th>en_ru</th>\n",
       "      <td>0.012175</td>\n",
       "      <td>0.015287</td>\n",
       "      <td>False</td>\n",
       "    </tr>\n",
       "    <tr>\n",
       "      <th>ru_de</th>\n",
       "      <td>0.005207</td>\n",
       "      <td>0.005221</td>\n",
       "      <td>False</td>\n",
       "    </tr>\n",
       "    <tr>\n",
       "      <th>ru_kk</th>\n",
       "      <td>0.008805</td>\n",
       "      <td>0.009498</td>\n",
       "      <td>False</td>\n",
       "    </tr>\n",
       "  </tbody>\n",
       "</table>\n",
       "</div>"
      ],
      "text/plain": [
       "         BLEU_1    BLEU_2   Best\n",
       "de_en  0.006103  0.006008   True\n",
       "en_kk  0.011882  0.011845   True\n",
       "en_ru  0.012175  0.015287  False\n",
       "ru_de  0.005207  0.005221  False\n",
       "ru_kk  0.008805  0.009498  False"
      ]
     },
     "execution_count": 50,
     "metadata": {},
     "output_type": "execute_result"
    }
   ],
   "source": [
    "data"
   ]
  },
  {
   "cell_type": "markdown",
   "metadata": {},
   "source": [
    "Проверим гипотезу о нормальном распределении данных на основе критерия Шапиро."
   ]
  },
  {
   "cell_type": "code",
   "execution_count": 54,
   "metadata": {},
   "outputs": [
    {
     "name": "stdout",
     "output_type": "stream",
     "text": [
      "Критерий Шапиро, p_value = 0.013\n"
     ]
    }
   ],
   "source": [
    "print('Критерий Шапиро, p_value = {:.3f}'.format(st.shapiro(data['BLEU_1'] - data['BLEU_2'])[1]))"
   ]
  },
  {
   "cell_type": "markdown",
   "metadata": {},
   "source": [
    "Видно, что p-value получилось <0.05, значит мы отвергаем гипотезу о нормальном распределении данных."
   ]
  },
  {
   "cell_type": "markdown",
   "metadata": {},
   "source": [
    "Сформулируем проверяемые гипотезы и воспользуемся для их проверки непараметрическими критериями знаков, Уилкоксона."
   ]
  },
  {
   "cell_type": "markdown",
   "metadata": {},
   "source": [
    "**H0:** P(BLEU_1 > BLEU_2) = 1/2\n",
    "\n",
    "**H1:** P(BLEU_1 > BLEU_2) != 1/2"
   ]
  },
  {
   "cell_type": "code",
   "execution_count": 52,
   "metadata": {},
   "outputs": [
    {
     "data": {
      "text/plain": [
       "(0.714332640171051, 0.013444613665342331)"
      ]
     },
     "execution_count": 52,
     "metadata": {},
     "output_type": "execute_result"
    }
   ],
   "source": [
    "print('Критерий Шапиро'.format(st.shapiro(data['BLEU_1'] - data['BLEU_2'])[1]))"
   ]
  },
  {
   "cell_type": "code",
   "execution_count": 58,
   "metadata": {},
   "outputs": [
    {
     "name": "stdout",
     "output_type": "stream",
     "text": [
      "(-0.5, 1.0)\n"
     ]
    }
   ],
   "source": [
    "from statsmodels.stats.descriptivestats import sign_test\n",
    "print(sign_test(data['BLEU_1'] - data['BLEU_2']))"
   ]
  },
  {
   "cell_type": "code",
   "execution_count": 60,
   "metadata": {},
   "outputs": [
    {
     "name": "stderr",
     "output_type": "stream",
     "text": [
      "C:\\Users\\Anton Sotnikov\\Anaconda3\\lib\\site-packages\\scipy\\stats\\morestats.py:2879: UserWarning: Sample size too small for normal approximation.\n",
      "  warnings.warn(\"Sample size too small for normal approximation.\")\n"
     ]
    },
    {
     "data": {
      "text/plain": [
       "WilcoxonResult(statistic=5.0, pvalue=0.5001842570707944)"
      ]
     },
     "execution_count": 60,
     "metadata": {},
     "output_type": "execute_result"
    }
   ],
   "source": [
    "st.wilcoxon(data['BLEU_1'] - data['BLEU_2'])"
   ]
  },
  {
   "cell_type": "markdown",
   "metadata": {},
   "source": [
    "Видно, что мы не можем отвергнуть нулевую гипотезу, а значит не можем сказать, какой из переводчиков лучше. Качество зависит от языковой пары."
   ]
  },
  {
   "cell_type": "code",
   "execution_count": null,
   "metadata": {},
   "outputs": [],
   "source": []
  }
 ],
 "metadata": {
  "kernelspec": {
   "display_name": "Python 3",
   "language": "python",
   "name": "python3"
  },
  "language_info": {
   "codemirror_mode": {
    "name": "ipython",
    "version": 3
   },
   "file_extension": ".py",
   "mimetype": "text/x-python",
   "name": "python",
   "nbconvert_exporter": "python",
   "pygments_lexer": "ipython3",
   "version": "3.7.6"
  }
 },
 "nbformat": 4,
 "nbformat_minor": 4
}
