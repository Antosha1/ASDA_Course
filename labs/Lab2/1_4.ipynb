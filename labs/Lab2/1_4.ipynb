{
 "cells": [
  {
   "cell_type": "markdown",
   "metadata": {},
   "source": [
    "## Задача 1.4\n",
    "[Выборка: новости Lenta.ru](https://github.com/yutkin/Lenta.Ru-News-Dataset)\n",
    "\n",
    "1. Взять случайную подвыборку новостей lenta.ru за 2019 год (не менее 3000)\n",
    "2. На основе подвыборки построить граф связей упоминания личностей, организаций и стран из [списка](entities.txt).\n",
    "3. В новостях выбрать сущность, зависящую от наибольшего количества других сущностей (далее будем называть ее центральной)\n",
    "4. посчитать ACE уопминания центральной сущности при упоминании (и отсутствии упоминания) сущностей, от которых она зависит\n",
    "5. сравнить результаты пункта 4 с оценками вероятностей упоминания центральной сущности при условии упоминания (и при отсутствии упоминания) сущностей, от которых она зависит\n",
    "\n",
    "**Рекомендации: (в случае использования пакета causality):**\n",
    "\n",
    "1. в качестве теста для проверки условной независимости использовать MutualInformationTest\n",
    "2. результаты будут сильно отличаться в зависимости от полученной случаной подвыборки. Фиксируйте seed.\n",
    "3. для учета разного написания сущности (число, род, падеж) используйте методы стеминга (nltk.stem или mystem):\n",
    "https://www.kaggle.com/alxmamaev/how-to-easy-preprocess-russian-text\n",
    "4. causality не умеет работать с циклами (но сам их производит). Циклы можно удалять (в этой лабе, в реальности нельзя)."
   ]
  },
  {
   "cell_type": "code",
   "execution_count": 1,
   "metadata": {},
   "outputs": [],
   "source": [
    "import warnings\n",
    "warnings.filterwarnings(\"ignore\")"
   ]
  },
  {
   "cell_type": "code",
   "execution_count": 2,
   "metadata": {},
   "outputs": [],
   "source": [
    "import pandas as pd\n",
    "import numpy as np\n",
    "import seaborn as sns\n",
    "import matplotlib.pylab as plt\n",
    "%matplotlib inline\n",
    "\n",
    "from statsmodels.regression.linear_model import OLS\n",
    "import statsmodels.api as sm\n",
    "\n",
    "from causalgraphicalmodels import CausalGraphicalModel\n",
    "from causality.inference.search import IC\n",
    "from causality.inference.independence_tests import MutualInformationTest\n",
    "from causality.estimation.adjustments import AdjustForDirectCauses\n",
    "from causality.estimation.nonparametric import CausalEffect\n",
    "\n",
    "import networkx as nx"
   ]
  },
  {
   "cell_type": "code",
   "execution_count": 3,
   "metadata": {},
   "outputs": [],
   "source": [
    "df = pd.read_csv('lenta-ru-news.csv')"
   ]
  },
  {
   "cell_type": "code",
   "execution_count": 4,
   "metadata": {},
   "outputs": [
    {
     "data": {
      "text/html": [
       "<div>\n",
       "<style scoped>\n",
       "    .dataframe tbody tr th:only-of-type {\n",
       "        vertical-align: middle;\n",
       "    }\n",
       "\n",
       "    .dataframe tbody tr th {\n",
       "        vertical-align: top;\n",
       "    }\n",
       "\n",
       "    .dataframe thead th {\n",
       "        text-align: right;\n",
       "    }\n",
       "</style>\n",
       "<table border=\"1\" class=\"dataframe\">\n",
       "  <thead>\n",
       "    <tr style=\"text-align: right;\">\n",
       "      <th></th>\n",
       "      <th>url</th>\n",
       "      <th>title</th>\n",
       "      <th>text</th>\n",
       "      <th>topic</th>\n",
       "      <th>tags</th>\n",
       "      <th>date</th>\n",
       "    </tr>\n",
       "  </thead>\n",
       "  <tbody>\n",
       "    <tr>\n",
       "      <th>0</th>\n",
       "      <td>https://lenta.ru/news/1914/09/16/hungarnn/</td>\n",
       "      <td>1914. Русские войска вступили в пределы Венгрии</td>\n",
       "      <td>Бои у Сопоцкина и Друскеник закончились отступ...</td>\n",
       "      <td>Библиотека</td>\n",
       "      <td>Первая мировая</td>\n",
       "      <td>1914/09/16</td>\n",
       "    </tr>\n",
       "    <tr>\n",
       "      <th>1</th>\n",
       "      <td>https://lenta.ru/news/1914/09/16/lermontov/</td>\n",
       "      <td>1914. Празднование столетия М.Ю. Лермонтова от...</td>\n",
       "      <td>Министерство народного просвещения, в виду про...</td>\n",
       "      <td>Библиотека</td>\n",
       "      <td>Первая мировая</td>\n",
       "      <td>1914/09/16</td>\n",
       "    </tr>\n",
       "    <tr>\n",
       "      <th>2</th>\n",
       "      <td>https://lenta.ru/news/1914/09/17/nesteroff/</td>\n",
       "      <td>1914. Das ist Nesteroff!</td>\n",
       "      <td>Штабс-капитан П. Н. Нестеров на днях, увидев в...</td>\n",
       "      <td>Библиотека</td>\n",
       "      <td>Первая мировая</td>\n",
       "      <td>1914/09/17</td>\n",
       "    </tr>\n",
       "    <tr>\n",
       "      <th>3</th>\n",
       "      <td>https://lenta.ru/news/1914/09/17/bulldogn/</td>\n",
       "      <td>1914. Бульдог-гонец под Льежем</td>\n",
       "      <td>Фотограф-корреспондент Daily Mirror рассказыва...</td>\n",
       "      <td>Библиотека</td>\n",
       "      <td>Первая мировая</td>\n",
       "      <td>1914/09/17</td>\n",
       "    </tr>\n",
       "    <tr>\n",
       "      <th>4</th>\n",
       "      <td>https://lenta.ru/news/1914/09/18/zver/</td>\n",
       "      <td>1914. Под Люблином пойман швабский зверь</td>\n",
       "      <td>Лица, приехавшие в Варшаву из Люблина, передаю...</td>\n",
       "      <td>Библиотека</td>\n",
       "      <td>Первая мировая</td>\n",
       "      <td>1914/09/18</td>\n",
       "    </tr>\n",
       "  </tbody>\n",
       "</table>\n",
       "</div>"
      ],
      "text/plain": [
       "                                           url  \\\n",
       "0   https://lenta.ru/news/1914/09/16/hungarnn/   \n",
       "1  https://lenta.ru/news/1914/09/16/lermontov/   \n",
       "2  https://lenta.ru/news/1914/09/17/nesteroff/   \n",
       "3   https://lenta.ru/news/1914/09/17/bulldogn/   \n",
       "4       https://lenta.ru/news/1914/09/18/zver/   \n",
       "\n",
       "                                               title  \\\n",
       "0  1914. Русские войска вступили в пределы Венгрии     \n",
       "1  1914. Празднование столетия М.Ю. Лермонтова от...   \n",
       "2                           1914. Das ist Nesteroff!   \n",
       "3                    1914. Бульдог-гонец под Льежем    \n",
       "4           1914. Под Люблином пойман швабский зверь   \n",
       "\n",
       "                                                text       topic  \\\n",
       "0  Бои у Сопоцкина и Друскеник закончились отступ...  Библиотека   \n",
       "1  Министерство народного просвещения, в виду про...  Библиотека   \n",
       "2  Штабс-капитан П. Н. Нестеров на днях, увидев в...  Библиотека   \n",
       "3  Фотограф-корреспондент Daily Mirror рассказыва...  Библиотека   \n",
       "4  Лица, приехавшие в Варшаву из Люблина, передаю...  Библиотека   \n",
       "\n",
       "             tags        date  \n",
       "0  Первая мировая  1914/09/16  \n",
       "1  Первая мировая  1914/09/16  \n",
       "2  Первая мировая  1914/09/17  \n",
       "3  Первая мировая  1914/09/17  \n",
       "4  Первая мировая  1914/09/18  "
      ]
     },
     "execution_count": 4,
     "metadata": {},
     "output_type": "execute_result"
    }
   ],
   "source": [
    "df.head()"
   ]
  },
  {
   "cell_type": "code",
   "execution_count": 5,
   "metadata": {},
   "outputs": [
    {
     "data": {
      "text/plain": [
       "(800975, 6)"
      ]
     },
     "execution_count": 5,
     "metadata": {},
     "output_type": "execute_result"
    }
   ],
   "source": [
    "df.shape"
   ]
  },
  {
   "cell_type": "code",
   "execution_count": 6,
   "metadata": {},
   "outputs": [
    {
     "data": {
      "text/plain": [
       "array(['1914/09/16', '1914/09/17', '1914/09/18', ..., '2019/12/12',\n",
       "       '2019/12/13', '2019/12/14'], dtype=object)"
      ]
     },
     "execution_count": 6,
     "metadata": {},
     "output_type": "execute_result"
    }
   ],
   "source": [
    "df['date'].unique()"
   ]
  },
  {
   "cell_type": "code",
   "execution_count": 7,
   "metadata": {},
   "outputs": [
    {
     "data": {
      "text/plain": [
       "array(['Библиотека', 'Россия', 'Мир', 'Экономика', 'Интернет и СМИ',\n",
       "       'Спорт', 'Культура', 'Из жизни', 'Силовые структуры',\n",
       "       'Наука и техника', 'Бывший СССР', nan, 'Дом', 'Сочи', 'ЧМ-2014',\n",
       "       'Путешествия', 'Ценности', 'Легпром', 'Бизнес', 'МедНовости',\n",
       "       'Оружие', '69-я параллель', 'Культпросвет ', 'Крым'], dtype=object)"
      ]
     },
     "execution_count": 7,
     "metadata": {},
     "output_type": "execute_result"
    }
   ],
   "source": [
    "df['topic'].unique()"
   ]
  },
  {
   "cell_type": "code",
   "execution_count": 8,
   "metadata": {},
   "outputs": [
    {
     "data": {
      "text/plain": [
       "array(['Первая мировая', 'Все', nan, 'Прибалтика', 'Кино', 'Преступность',\n",
       "       'Общество', 'Происшествия', 'Искусство', 'Бизнес', 'Техника',\n",
       "       'ТВ и радио', 'Политика', 'Пресса', 'Музыка', 'Люди', 'Звери',\n",
       "       'Игры', 'Госэкономика', 'Гаджеты', 'Наука', 'Еда', 'Рынки',\n",
       "       'Деньги', 'Летние виды', 'Интернет', 'Театр', 'Конфликты',\n",
       "       'Реклама', 'Космос', 'Бокс и ММА', 'Футбол', 'Книги',\n",
       "       'Зимние виды', 'Достижения', 'Coцсети', 'Вещи', 'События',\n",
       "       'Средняя Азия', 'Украина', 'Закавказье', 'Белоруссия', 'Молдавия',\n",
       "       'Софт', 'Квартира', 'Город', 'Дача', 'Офис', 'Оружие', 'Мнения',\n",
       "       'Москва', 'Регионы', 'Полиция и спецслужбы', 'Криминал',\n",
       "       'Следствие и суд', 'Движение', 'Производители', 'Мировой бизнес',\n",
       "       'Финансы компаний', 'Деловой климат', 'Мир', 'Россия', 'Часы',\n",
       "       'Явления', 'Стиль', 'Инструменты', 'Вооружение', 'Вкусы',\n",
       "       'Страноведение', 'Госрегулирование', 'История', 'Внешний вид',\n",
       "       'Автобизнес', 'Аналитика рынка', 'Туризм', 'Выборы', 'Экология',\n",
       "       'Мемы', 'Мировой опыт', 'Инновации', 'Хоккей', 'Вирусные ролики',\n",
       "       'Фотография', 'Авто', 'Наследие', 'Преступная Россия', 'Жизнь',\n",
       "       'Киберпреступность', 'Социальная сфера', 'Казахстан',\n",
       "       '69-я параллель', 'Экономика', 'Культура', 'Нацпроекты',\n",
       "       'Английский футбол'], dtype=object)"
      ]
     },
     "execution_count": 8,
     "metadata": {},
     "output_type": "execute_result"
    }
   ],
   "source": [
    "df['tags'].unique()"
   ]
  },
  {
   "cell_type": "code",
   "execution_count": 9,
   "metadata": {},
   "outputs": [
    {
     "data": {
      "text/plain": [
       "'Желание сделать селфи с моржом привело к смерти двух человек в зоопарке китайской провинции Ляонин. О подробностях трагедии сообщает портал CNet. Посетитель зоопарка решил сделать селфи с моржом и отправить снимки друзьям через мессенджер WeChat. Но после того, как китаец несколько раз сфотографировался и заснял видео на фоне животного, морж напал на него со спины и утащил в бассейн. На помощь пострадавшему бросился смотритель зоопарка, более 10 лет следивший за обитавшим там моржом. Он прыгнул в бассейн и попытался спасти любителя селфи. В итоге оба мужчины утонули. Зоопарк выплатил семье погибшего посетителя компенсацию в размере 137 тысяч долларов. В феврале 2016 года поведение посетителей китайского зоопарка привело к смерти двух павлинов. Ради памятных селфи туристы передавали птиц из рук в руки и выдергивали из хвостов перья. В итоге первый павлин 12 февраля умер от испуга и болевого шока. Через три дня та же участь постигла еще одну птицу, которую замучили четверо посетителей.'"
      ]
     },
     "execution_count": 9,
     "metadata": {},
     "output_type": "execute_result"
    }
   ],
   "source": [
    "df[df['tags'] == 'Мемы']['text'].to_list()[0]"
   ]
  },
  {
   "cell_type": "markdown",
   "metadata": {},
   "source": [
    "![Sad Story](sadstory.png \"Sad Story\")"
   ]
  },
  {
   "cell_type": "markdown",
   "metadata": {},
   "source": [
    "#### Перемешаем выборку, отберем статьи за 2019 год и возьмем первые n строк"
   ]
  },
  {
   "cell_type": "code",
   "execution_count": 10,
   "metadata": {},
   "outputs": [],
   "source": [
    "n = 3000\n",
    "\n",
    "data = df[df['date'].str.contains('2019')]\n",
    "data = data.sample(frac=1).reset_index(drop=True)[:n]"
   ]
  },
  {
   "cell_type": "code",
   "execution_count": 11,
   "metadata": {},
   "outputs": [
    {
     "data": {
      "text/html": [
       "<div>\n",
       "<style scoped>\n",
       "    .dataframe tbody tr th:only-of-type {\n",
       "        vertical-align: middle;\n",
       "    }\n",
       "\n",
       "    .dataframe tbody tr th {\n",
       "        vertical-align: top;\n",
       "    }\n",
       "\n",
       "    .dataframe thead th {\n",
       "        text-align: right;\n",
       "    }\n",
       "</style>\n",
       "<table border=\"1\" class=\"dataframe\">\n",
       "  <thead>\n",
       "    <tr style=\"text-align: right;\">\n",
       "      <th></th>\n",
       "      <th>url</th>\n",
       "      <th>title</th>\n",
       "      <th>text</th>\n",
       "      <th>topic</th>\n",
       "      <th>tags</th>\n",
       "      <th>date</th>\n",
       "    </tr>\n",
       "  </thead>\n",
       "  <tbody>\n",
       "    <tr>\n",
       "      <th>0</th>\n",
       "      <td>https://lenta.ru/news/2019/04/14/pele_surgery/</td>\n",
       "      <td>Пеле перенес очередную операцию</td>\n",
       "      <td>Бывший бразильский футболист Пеле успешно пере...</td>\n",
       "      <td>NaN</td>\n",
       "      <td>Футбол</td>\n",
       "      <td>2019/04/14</td>\n",
       "    </tr>\n",
       "    <tr>\n",
       "      <th>1</th>\n",
       "      <td>https://lenta.ru/news/2019/08/19/trtrtrtr/</td>\n",
       "      <td>Трамп призвал Индию сохранять спокойствие</td>\n",
       "      <td>Президент США Дональд Трамп обратился к премье...</td>\n",
       "      <td>NaN</td>\n",
       "      <td>Политика</td>\n",
       "      <td>2019/08/19</td>\n",
       "    </tr>\n",
       "    <tr>\n",
       "      <th>2</th>\n",
       "      <td>https://lenta.ru/news/2019/08/04/pennebaker/</td>\n",
       "      <td>Умер оскароносный режиссер фильмов о Бобе Дила...</td>\n",
       "      <td>Умер американский режиссер-документалист Донн ...</td>\n",
       "      <td>NaN</td>\n",
       "      <td>Кино</td>\n",
       "      <td>2019/08/04</td>\n",
       "    </tr>\n",
       "    <tr>\n",
       "      <th>3</th>\n",
       "      <td>https://lenta.ru/news/2019/03/26/muscularchan/</td>\n",
       "      <td>Мускулистая китаянка поразила пользователей со...</td>\n",
       "      <td>Студентка из Китая восхитила пользователей соц...</td>\n",
       "      <td>NaN</td>\n",
       "      <td>Coцсети</td>\n",
       "      <td>2019/03/26</td>\n",
       "    </tr>\n",
       "    <tr>\n",
       "      <th>4</th>\n",
       "      <td>https://lenta.ru/news/2019/04/09/museummoscow/</td>\n",
       "      <td>Назван самый популярный музей Москвы</td>\n",
       "      <td>Мультимедиа Арт Музей (МАММ) стал самым популя...</td>\n",
       "      <td>NaN</td>\n",
       "      <td>Искусство</td>\n",
       "      <td>2019/04/09</td>\n",
       "    </tr>\n",
       "  </tbody>\n",
       "</table>\n",
       "</div>"
      ],
      "text/plain": [
       "                                              url  \\\n",
       "0  https://lenta.ru/news/2019/04/14/pele_surgery/   \n",
       "1      https://lenta.ru/news/2019/08/19/trtrtrtr/   \n",
       "2    https://lenta.ru/news/2019/08/04/pennebaker/   \n",
       "3  https://lenta.ru/news/2019/03/26/muscularchan/   \n",
       "4  https://lenta.ru/news/2019/04/09/museummoscow/   \n",
       "\n",
       "                                               title  \\\n",
       "0                    Пеле перенес очередную операцию   \n",
       "1          Трамп призвал Индию сохранять спокойствие   \n",
       "2  Умер оскароносный режиссер фильмов о Бобе Дила...   \n",
       "3  Мускулистая китаянка поразила пользователей со...   \n",
       "4               Назван самый популярный музей Москвы   \n",
       "\n",
       "                                                text topic       tags  \\\n",
       "0  Бывший бразильский футболист Пеле успешно пере...   NaN     Футбол   \n",
       "1  Президент США Дональд Трамп обратился к премье...   NaN   Политика   \n",
       "2  Умер американский режиссер-документалист Донн ...   NaN       Кино   \n",
       "3  Студентка из Китая восхитила пользователей соц...   NaN    Coцсети   \n",
       "4  Мультимедиа Арт Музей (МАММ) стал самым популя...   NaN  Искусство   \n",
       "\n",
       "         date  \n",
       "0  2019/04/14  \n",
       "1  2019/08/19  \n",
       "2  2019/08/04  \n",
       "3  2019/03/26  \n",
       "4  2019/04/09  "
      ]
     },
     "execution_count": 11,
     "metadata": {},
     "output_type": "execute_result"
    }
   ],
   "source": [
    "data.head()"
   ]
  },
  {
   "cell_type": "code",
   "execution_count": 12,
   "metadata": {},
   "outputs": [
    {
     "data": {
      "text/plain": [
       "(3000, 6)"
      ]
     },
     "execution_count": 12,
     "metadata": {},
     "output_type": "execute_result"
    }
   ],
   "source": [
    "data.shape"
   ]
  },
  {
   "cell_type": "markdown",
   "metadata": {},
   "source": [
    "#### Проведем стемминг новостных текстов"
   ]
  },
  {
   "cell_type": "code",
   "execution_count": 13,
   "metadata": {},
   "outputs": [
    {
     "name": "stderr",
     "output_type": "stream",
     "text": [
      "[nltk_data] Downloading package stopwords to\n",
      "[nltk_data]     /home/antosha1/nltk_data...\n",
      "[nltk_data]   Package stopwords is already up-to-date!\n"
     ]
    }
   ],
   "source": [
    "import nltk\n",
    "nltk.download(\"stopwords\")\n",
    "\n",
    "from nltk.corpus import stopwords\n",
    "from pymystem3 import Mystem\n",
    "from string import punctuation\n",
    "\n",
    "#Create lemmatizer and stopwords list\n",
    "punctuation += ' ' + '»' + '«' + '—'\n",
    "mystem = Mystem() \n",
    "russian_stopwords = stopwords.words(\"russian\")\n",
    "\n",
    "#Preprocess function\n",
    "def preprocess_text(text):\n",
    "    text = text.lower()\n",
    "    text = ' '.join(mystem.lemmatize(text.lower()))\n",
    "    tokens = [token for token in text.split()]\n",
    "    tokens = [token for token in tokens if token not in russian_stopwords]\n",
    "    tokens = [token for token in tokens if token not in punctuation]\n",
    "    text = \" \".join(tokens)\n",
    "    \n",
    "    return text"
   ]
  },
  {
   "cell_type": "code",
   "execution_count": 14,
   "metadata": {},
   "outputs": [],
   "source": [
    "data['text'] = data['text'].apply(preprocess_text)"
   ]
  },
  {
   "cell_type": "code",
   "execution_count": 15,
   "metadata": {},
   "outputs": [
    {
     "data": {
      "text/html": [
       "<div>\n",
       "<style scoped>\n",
       "    .dataframe tbody tr th:only-of-type {\n",
       "        vertical-align: middle;\n",
       "    }\n",
       "\n",
       "    .dataframe tbody tr th {\n",
       "        vertical-align: top;\n",
       "    }\n",
       "\n",
       "    .dataframe thead th {\n",
       "        text-align: right;\n",
       "    }\n",
       "</style>\n",
       "<table border=\"1\" class=\"dataframe\">\n",
       "  <thead>\n",
       "    <tr style=\"text-align: right;\">\n",
       "      <th></th>\n",
       "      <th>url</th>\n",
       "      <th>title</th>\n",
       "      <th>text</th>\n",
       "      <th>topic</th>\n",
       "      <th>tags</th>\n",
       "      <th>date</th>\n",
       "    </tr>\n",
       "  </thead>\n",
       "  <tbody>\n",
       "    <tr>\n",
       "      <th>0</th>\n",
       "      <td>https://lenta.ru/news/2019/04/14/pele_surgery/</td>\n",
       "      <td>Пеле перенес очередную операцию</td>\n",
       "      <td>бывший бразильский футболист пел успешно перен...</td>\n",
       "      <td>NaN</td>\n",
       "      <td>Футбол</td>\n",
       "      <td>2019/04/14</td>\n",
       "    </tr>\n",
       "    <tr>\n",
       "      <th>1</th>\n",
       "      <td>https://lenta.ru/news/2019/08/19/trtrtrtr/</td>\n",
       "      <td>Трамп призвал Индию сохранять спокойствие</td>\n",
       "      <td>президент сша дональд трамп обращаться премьер...</td>\n",
       "      <td>NaN</td>\n",
       "      <td>Политика</td>\n",
       "      <td>2019/08/19</td>\n",
       "    </tr>\n",
       "    <tr>\n",
       "      <th>2</th>\n",
       "      <td>https://lenta.ru/news/2019/08/04/pennebaker/</td>\n",
       "      <td>Умер оскароносный режиссер фильмов о Бобе Дила...</td>\n",
       "      <td>умирать американский режиссер документалист до...</td>\n",
       "      <td>NaN</td>\n",
       "      <td>Кино</td>\n",
       "      <td>2019/08/04</td>\n",
       "    </tr>\n",
       "    <tr>\n",
       "      <th>3</th>\n",
       "      <td>https://lenta.ru/news/2019/03/26/muscularchan/</td>\n",
       "      <td>Мускулистая китаянка поразила пользователей со...</td>\n",
       "      <td>студентка китай восхищать пользователь соцсеть...</td>\n",
       "      <td>NaN</td>\n",
       "      <td>Coцсети</td>\n",
       "      <td>2019/03/26</td>\n",
       "    </tr>\n",
       "    <tr>\n",
       "      <th>4</th>\n",
       "      <td>https://lenta.ru/news/2019/04/09/museummoscow/</td>\n",
       "      <td>Назван самый популярный музей Москвы</td>\n",
       "      <td>мультимедиа арт музей мамм становиться самый п...</td>\n",
       "      <td>NaN</td>\n",
       "      <td>Искусство</td>\n",
       "      <td>2019/04/09</td>\n",
       "    </tr>\n",
       "  </tbody>\n",
       "</table>\n",
       "</div>"
      ],
      "text/plain": [
       "                                              url  \\\n",
       "0  https://lenta.ru/news/2019/04/14/pele_surgery/   \n",
       "1      https://lenta.ru/news/2019/08/19/trtrtrtr/   \n",
       "2    https://lenta.ru/news/2019/08/04/pennebaker/   \n",
       "3  https://lenta.ru/news/2019/03/26/muscularchan/   \n",
       "4  https://lenta.ru/news/2019/04/09/museummoscow/   \n",
       "\n",
       "                                               title  \\\n",
       "0                    Пеле перенес очередную операцию   \n",
       "1          Трамп призвал Индию сохранять спокойствие   \n",
       "2  Умер оскароносный режиссер фильмов о Бобе Дила...   \n",
       "3  Мускулистая китаянка поразила пользователей со...   \n",
       "4               Назван самый популярный музей Москвы   \n",
       "\n",
       "                                                text topic       tags  \\\n",
       "0  бывший бразильский футболист пел успешно перен...   NaN     Футбол   \n",
       "1  президент сша дональд трамп обращаться премьер...   NaN   Политика   \n",
       "2  умирать американский режиссер документалист до...   NaN       Кино   \n",
       "3  студентка китай восхищать пользователь соцсеть...   NaN    Coцсети   \n",
       "4  мультимедиа арт музей мамм становиться самый п...   NaN  Искусство   \n",
       "\n",
       "         date  \n",
       "0  2019/04/14  \n",
       "1  2019/08/19  \n",
       "2  2019/08/04  \n",
       "3  2019/03/26  \n",
       "4  2019/04/09  "
      ]
     },
     "execution_count": 15,
     "metadata": {},
     "output_type": "execute_result"
    }
   ],
   "source": [
    "data.head()"
   ]
  },
  {
   "cell_type": "code",
   "execution_count": 16,
   "metadata": {},
   "outputs": [],
   "source": [
    "vertexes = ['украина', 'сша', 'россия', 'москва', 'киев', 'тасс', 'трамп', 'риа', 'донбасс',\n",
    "        'европа', 'порошенко', 'зеленский', 'путин', 'крым', 'мвд', 'сирия', 'турция',\n",
    "        'германия', 'петербург', 'интерфакс', 'великобритания']\n",
    "\n",
    "v = len(vertexes)"
   ]
  },
  {
   "cell_type": "code",
   "execution_count": 17,
   "metadata": {},
   "outputs": [],
   "source": [
    "texts = data['text'].to_list()"
   ]
  },
  {
   "cell_type": "code",
   "execution_count": 18,
   "metadata": {},
   "outputs": [],
   "source": [
    "# clean_texts = []\n",
    "\n",
    "# for text in texts:\n",
    "#     for token in text.split():\n",
    "#         if token not in vertexes:\n",
    "#             text = text.replace(token, '')\n",
    "#     arr = list(set(' '.join(text.split()).split()))\n",
    "#     clean_texts.append([a for a in arr if a in vertexes])"
   ]
  },
  {
   "cell_type": "code",
   "execution_count": 19,
   "metadata": {},
   "outputs": [],
   "source": [
    "edges = np.zeros((v, n))\n",
    "for i in range(v):\n",
    "    for j in range(n):\n",
    "        if vertexes[i] in texts[j]:\n",
    "            edges[i][j] = 1\n",
    "\n",
    "dataframe = pd.DataFrame.from_items(zip(vertexes, edges))"
   ]
  },
  {
   "cell_type": "code",
   "execution_count": 20,
   "metadata": {},
   "outputs": [
    {
     "data": {
      "text/html": [
       "<div>\n",
       "<style scoped>\n",
       "    .dataframe tbody tr th:only-of-type {\n",
       "        vertical-align: middle;\n",
       "    }\n",
       "\n",
       "    .dataframe tbody tr th {\n",
       "        vertical-align: top;\n",
       "    }\n",
       "\n",
       "    .dataframe thead th {\n",
       "        text-align: right;\n",
       "    }\n",
       "</style>\n",
       "<table border=\"1\" class=\"dataframe\">\n",
       "  <thead>\n",
       "    <tr style=\"text-align: right;\">\n",
       "      <th></th>\n",
       "      <th>украина</th>\n",
       "      <th>сша</th>\n",
       "      <th>россия</th>\n",
       "      <th>москва</th>\n",
       "      <th>киев</th>\n",
       "      <th>тасс</th>\n",
       "      <th>трамп</th>\n",
       "      <th>риа</th>\n",
       "      <th>донбасс</th>\n",
       "      <th>европа</th>\n",
       "      <th>...</th>\n",
       "      <th>зеленский</th>\n",
       "      <th>путин</th>\n",
       "      <th>крым</th>\n",
       "      <th>мвд</th>\n",
       "      <th>сирия</th>\n",
       "      <th>турция</th>\n",
       "      <th>германия</th>\n",
       "      <th>петербург</th>\n",
       "      <th>интерфакс</th>\n",
       "      <th>великобритания</th>\n",
       "    </tr>\n",
       "  </thead>\n",
       "  <tbody>\n",
       "    <tr>\n",
       "      <th>0</th>\n",
       "      <td>0.0</td>\n",
       "      <td>0.0</td>\n",
       "      <td>0.0</td>\n",
       "      <td>1.0</td>\n",
       "      <td>0.0</td>\n",
       "      <td>0.0</td>\n",
       "      <td>0.0</td>\n",
       "      <td>0.0</td>\n",
       "      <td>0.0</td>\n",
       "      <td>0.0</td>\n",
       "      <td>...</td>\n",
       "      <td>0.0</td>\n",
       "      <td>0.0</td>\n",
       "      <td>0.0</td>\n",
       "      <td>0.0</td>\n",
       "      <td>0.0</td>\n",
       "      <td>0.0</td>\n",
       "      <td>0.0</td>\n",
       "      <td>0.0</td>\n",
       "      <td>0.0</td>\n",
       "      <td>0.0</td>\n",
       "    </tr>\n",
       "    <tr>\n",
       "      <th>1</th>\n",
       "      <td>0.0</td>\n",
       "      <td>1.0</td>\n",
       "      <td>0.0</td>\n",
       "      <td>0.0</td>\n",
       "      <td>0.0</td>\n",
       "      <td>0.0</td>\n",
       "      <td>1.0</td>\n",
       "      <td>1.0</td>\n",
       "      <td>0.0</td>\n",
       "      <td>0.0</td>\n",
       "      <td>...</td>\n",
       "      <td>0.0</td>\n",
       "      <td>0.0</td>\n",
       "      <td>0.0</td>\n",
       "      <td>0.0</td>\n",
       "      <td>0.0</td>\n",
       "      <td>0.0</td>\n",
       "      <td>0.0</td>\n",
       "      <td>0.0</td>\n",
       "      <td>0.0</td>\n",
       "      <td>0.0</td>\n",
       "    </tr>\n",
       "    <tr>\n",
       "      <th>2</th>\n",
       "      <td>0.0</td>\n",
       "      <td>0.0</td>\n",
       "      <td>0.0</td>\n",
       "      <td>0.0</td>\n",
       "      <td>0.0</td>\n",
       "      <td>0.0</td>\n",
       "      <td>0.0</td>\n",
       "      <td>0.0</td>\n",
       "      <td>0.0</td>\n",
       "      <td>0.0</td>\n",
       "      <td>...</td>\n",
       "      <td>0.0</td>\n",
       "      <td>0.0</td>\n",
       "      <td>0.0</td>\n",
       "      <td>0.0</td>\n",
       "      <td>0.0</td>\n",
       "      <td>0.0</td>\n",
       "      <td>0.0</td>\n",
       "      <td>0.0</td>\n",
       "      <td>0.0</td>\n",
       "      <td>0.0</td>\n",
       "    </tr>\n",
       "    <tr>\n",
       "      <th>3</th>\n",
       "      <td>0.0</td>\n",
       "      <td>0.0</td>\n",
       "      <td>0.0</td>\n",
       "      <td>0.0</td>\n",
       "      <td>0.0</td>\n",
       "      <td>0.0</td>\n",
       "      <td>0.0</td>\n",
       "      <td>0.0</td>\n",
       "      <td>0.0</td>\n",
       "      <td>0.0</td>\n",
       "      <td>...</td>\n",
       "      <td>0.0</td>\n",
       "      <td>0.0</td>\n",
       "      <td>0.0</td>\n",
       "      <td>0.0</td>\n",
       "      <td>0.0</td>\n",
       "      <td>0.0</td>\n",
       "      <td>0.0</td>\n",
       "      <td>0.0</td>\n",
       "      <td>0.0</td>\n",
       "      <td>0.0</td>\n",
       "    </tr>\n",
       "    <tr>\n",
       "      <th>4</th>\n",
       "      <td>0.0</td>\n",
       "      <td>0.0</td>\n",
       "      <td>1.0</td>\n",
       "      <td>1.0</td>\n",
       "      <td>0.0</td>\n",
       "      <td>1.0</td>\n",
       "      <td>0.0</td>\n",
       "      <td>0.0</td>\n",
       "      <td>0.0</td>\n",
       "      <td>0.0</td>\n",
       "      <td>...</td>\n",
       "      <td>0.0</td>\n",
       "      <td>0.0</td>\n",
       "      <td>0.0</td>\n",
       "      <td>0.0</td>\n",
       "      <td>0.0</td>\n",
       "      <td>0.0</td>\n",
       "      <td>0.0</td>\n",
       "      <td>0.0</td>\n",
       "      <td>0.0</td>\n",
       "      <td>0.0</td>\n",
       "    </tr>\n",
       "  </tbody>\n",
       "</table>\n",
       "<p>5 rows × 21 columns</p>\n",
       "</div>"
      ],
      "text/plain": [
       "   украина  сша  россия  москва  киев  тасс  трамп  риа  донбасс  европа  ...  \\\n",
       "0      0.0  0.0     0.0     1.0   0.0   0.0    0.0  0.0      0.0     0.0  ...   \n",
       "1      0.0  1.0     0.0     0.0   0.0   0.0    1.0  1.0      0.0     0.0  ...   \n",
       "2      0.0  0.0     0.0     0.0   0.0   0.0    0.0  0.0      0.0     0.0  ...   \n",
       "3      0.0  0.0     0.0     0.0   0.0   0.0    0.0  0.0      0.0     0.0  ...   \n",
       "4      0.0  0.0     1.0     1.0   0.0   1.0    0.0  0.0      0.0     0.0  ...   \n",
       "\n",
       "   зеленский  путин  крым  мвд  сирия  турция  германия  петербург  интерфакс  \\\n",
       "0        0.0    0.0   0.0  0.0    0.0     0.0       0.0        0.0        0.0   \n",
       "1        0.0    0.0   0.0  0.0    0.0     0.0       0.0        0.0        0.0   \n",
       "2        0.0    0.0   0.0  0.0    0.0     0.0       0.0        0.0        0.0   \n",
       "3        0.0    0.0   0.0  0.0    0.0     0.0       0.0        0.0        0.0   \n",
       "4        0.0    0.0   0.0  0.0    0.0     0.0       0.0        0.0        0.0   \n",
       "\n",
       "   великобритания  \n",
       "0             0.0  \n",
       "1             0.0  \n",
       "2             0.0  \n",
       "3             0.0  \n",
       "4             0.0  \n",
       "\n",
       "[5 rows x 21 columns]"
      ]
     },
     "execution_count": 20,
     "metadata": {},
     "output_type": "execute_result"
    }
   ],
   "source": [
    "dataframe.head()"
   ]
  },
  {
   "cell_type": "code",
   "execution_count": 21,
   "metadata": {},
   "outputs": [
    {
     "data": {
      "text/plain": [
       "(3000, 21)"
      ]
     },
     "execution_count": 21,
     "metadata": {},
     "output_type": "execute_result"
    }
   ],
   "source": [
    "dataframe.shape"
   ]
  },
  {
   "cell_type": "code",
   "execution_count": 22,
   "metadata": {},
   "outputs": [],
   "source": [
    "variable_types = {v:'d' for v in vertexes}\n",
    "\n",
    "mi_test = MutualInformationTest([vertexes[0]],[vertexes[1]], [vertexes[2]], dataframe, alpha=0.05, variable_types=variable_types)\n",
    "\n",
    "ic_algorithm = IC(MutualInformationTest, alpha=0.05)\n",
    "graph = ic_algorithm.search(dataframe, variable_types)"
   ]
  },
  {
   "cell_type": "code",
   "execution_count": 23,
   "metadata": {},
   "outputs": [
    {
     "name": "stderr",
     "output_type": "stream",
     "text": [
      "/home/antosha1/anaconda3/lib/python3.7/site-packages/networkx/drawing/nx_pylab.py:611: MatplotlibDeprecationWarning: isinstance(..., numbers.Number)\n",
      "  if cb.is_numlike(alpha):\n"
     ]
    },
    {
     "data": {
      "image/png": "[encoded data removed]",
      "text/plain": [
       "<Figure size 432x288 with 1 Axes>"
      ]
     },
     "metadata": {
      "needs_background": "light"
     },
     "output_type": "display_data"
    }
   ],
   "source": [
    "nx.draw_networkx(graph)"
   ]
  },
  {
   "cell_type": "code",
   "execution_count": 24,
   "metadata": {},
   "outputs": [
    {
     "name": "stdout",
     "output_type": "stream",
     "text": [
      "('украина', 'киев', {'marked': True, 'arrows': ['киев']})\n",
      "('украина', 'донбасс', {'marked': False, 'arrows': ['украина', 'украина', 'донбасс']})\n",
      "('украина', 'порошенко', {'marked': False, 'arrows': ['украина', 'украина', 'порошенко']})\n",
      "('украина', 'зеленский', {'marked': False, 'arrows': ['украина']})\n",
      "('украина', 'крым', {'marked': False, 'arrows': ['украина', 'украина', 'украина', 'крым']})\n",
      "('сша', 'трамп', {'marked': False, 'arrows': ['сша', 'сша', 'сша']})\n",
      "('сша', 'европа', {'marked': False, 'arrows': ['сша', 'сша', 'европа']})\n",
      "('сша', 'мвд', {'marked': False, 'arrows': ['сша', 'мвд']})\n",
      "('сша', 'сирия', {'marked': False, 'arrows': ['сша', 'сша', 'сша', 'сирия']})\n",
      "('сша', 'германия', {'marked': False, 'arrows': ['сша', 'сша', 'сша', 'германия', 'германия']})\n",
      "('россия', 'москва', {'marked': False, 'arrows': ['россия', 'россия', 'россия', 'россия', 'россия', 'москва', 'москва', 'москва']})\n",
      "('россия', 'тасс', {'marked': False, 'arrows': ['россия', 'россия', 'россия', 'россия', 'россия', 'россия', 'россия']})\n",
      "('россия', 'европа', {'marked': False, 'arrows': ['россия', 'россия', 'россия', 'россия', 'россия', 'россия', 'европа', 'европа']})\n",
      "('россия', 'путин', {'marked': False, 'arrows': ['россия', 'россия', 'россия', 'россия', 'россия', 'россия']})\n",
      "('россия', 'крым', {'marked': False, 'arrows': ['россия', 'россия', 'россия', 'россия', 'россия', 'россия', 'крым']})\n",
      "('россия', 'сирия', {'marked': False, 'arrows': ['россия', 'россия', 'россия', 'россия', 'россия', 'россия', 'россия', 'сирия', 'сирия']})\n",
      "('россия', 'германия', {'marked': False, 'arrows': ['россия', 'россия', 'россия', 'россия', 'россия', 'россия', 'германия', 'германия']})\n",
      "('россия', 'интерфакс', {'marked': False, 'arrows': ['россия', 'россия', 'россия', 'россия', 'россия', 'россия', 'россия']})\n",
      "('москва', 'киев', {'marked': False, 'arrows': ['москва', 'москва', 'москва', 'киев']})\n",
      "('москва', 'риа', {'marked': False, 'arrows': ['москва', 'москва', 'москва']})\n",
      "('москва', 'петербург', {'marked': False, 'arrows': ['москва', 'москва', 'москва', 'петербург', 'петербург']})\n",
      "('киев', 'донбасс', {'marked': False, 'arrows': ['киев', 'донбасс']})\n",
      "('трамп', 'петербург', {'marked': False, 'arrows': ['петербург', 'петербург']})\n",
      "('донбасс', 'турция', {'marked': False, 'arrows': ['донбасс', 'донбасс', 'донбасс', 'турция']})\n",
      "('донбасс', 'германия', {'marked': False, 'arrows': ['донбасс', 'германия', 'германия', 'германия']})\n",
      "('европа', 'мвд', {'marked': False, 'arrows': ['европа', 'европа', 'мвд', 'мвд']})\n",
      "('европа', 'германия', {'marked': False, 'arrows': ['европа', 'германия']})\n",
      "('порошенко', 'зеленский', {'marked': False, 'arrows': ['порошенко']})\n",
      "('порошенко', 'великобритания', {'marked': False, 'arrows': ['порошенко', 'порошенко', 'великобритания', 'великобритания']})\n",
      "('мвд', 'сирия', {'marked': False, 'arrows': ['мвд', 'мвд', 'сирия', 'сирия']})\n",
      "('мвд', 'великобритания', {'marked': False, 'arrows': ['мвд', 'мвд', 'мвд', 'великобритания', 'великобритания']})\n",
      "('сирия', 'турция', {'marked': False, 'arrows': ['сирия', 'турция']})\n",
      "('петербург', 'великобритания', {'marked': False, 'arrows': ['петербург', 'петербург', 'великобритания', 'великобритания']})\n"
     ]
    }
   ],
   "source": [
    "for e in graph.edges(data=True):\n",
    "    print(e)"
   ]
  },
  {
   "cell_type": "markdown",
   "metadata": {},
   "source": [
    "#### Найдем центральную сущность"
   ]
  },
  {
   "cell_type": "code",
   "execution_count": 25,
   "metadata": {},
   "outputs": [],
   "source": [
    "vertex_dict = {v : 0 for v in vertexes}\n",
    "\n",
    "for edge in graph.edges(data=True):\n",
    "    vertex_dict[edge[0]] += 1\n",
    "    vertex_dict[edge[1]] += 1"
   ]
  },
  {
   "cell_type": "code",
   "execution_count": 26,
   "metadata": {},
   "outputs": [
    {
     "data": {
      "text/plain": [
       "{'украина': 5,\n",
       " 'сша': 5,\n",
       " 'россия': 8,\n",
       " 'москва': 4,\n",
       " 'киев': 3,\n",
       " 'тасс': 1,\n",
       " 'трамп': 2,\n",
       " 'риа': 1,\n",
       " 'донбасс': 4,\n",
       " 'европа': 4,\n",
       " 'порошенко': 3,\n",
       " 'зеленский': 2,\n",
       " 'путин': 1,\n",
       " 'крым': 2,\n",
       " 'мвд': 4,\n",
       " 'сирия': 4,\n",
       " 'турция': 2,\n",
       " 'германия': 4,\n",
       " 'петербург': 3,\n",
       " 'интерфакс': 1,\n",
       " 'великобритания': 3}"
      ]
     },
     "execution_count": 26,
     "metadata": {},
     "output_type": "execute_result"
    }
   ],
   "source": [
    "vertex_dict"
   ]
  },
  {
   "cell_type": "code",
   "execution_count": 30,
   "metadata": {},
   "outputs": [
    {
     "data": {
      "text/plain": [
       "'россия'"
      ]
     },
     "execution_count": 30,
     "metadata": {},
     "output_type": "execute_result"
    }
   ],
   "source": [
    "list_d = list(vertex_dict.items())\n",
    "list_d.sort(key=lambda i: i[1])\n",
    "list_d[-1][0]"
   ]
  },
  {
   "cell_type": "markdown",
   "metadata": {},
   "source": [
    "![Rossiya](guber.jpg \"Rossiya\")"
   ]
  },
  {
   "cell_type": "code",
   "execution_count": 35,
   "metadata": {},
   "outputs": [],
   "source": [
    "connected = []\n",
    "\n",
    "for e in graph.edges(data=True):\n",
    "    if e[0] == 'россия':\n",
    "        connected.append(e[1])"
   ]
  },
  {
   "cell_type": "code",
   "execution_count": 36,
   "metadata": {},
   "outputs": [
    {
     "data": {
      "text/plain": [
       "['москва', 'тасс', 'европа', 'путин', 'крым', 'сирия', 'германия', 'интерфакс']"
      ]
     },
     "execution_count": 36,
     "metadata": {},
     "output_type": "execute_result"
    }
   ],
   "source": [
    "connected"
   ]
  },
  {
   "cell_type": "markdown",
   "metadata": {},
   "source": [
    "Посчитаем ACE упоминания центральной сущности 'россия' при упоминании (и отсутствии упоминания) сущностей, от которых она зависит"
   ]
  },
  {
   "cell_type": "code",
   "execution_count": 38,
   "metadata": {},
   "outputs": [
    {
     "name": "stdout",
     "output_type": "stream",
     "text": [
      "москва 0.19564343614726765\n",
      "тасс 0.17549776247246285\n",
      "европа 0.20601604878994073\n",
      "путин 0.4634151687508559\n",
      "крым 0.3674410460966729\n",
      "сирия 0.353051136621729\n",
      "германия 0.2195279080933759\n",
      "интерфакс 0.15977951745888502\n"
     ]
    }
   ],
   "source": [
    "for entity in connected:\n",
    "    effect = CausalEffect(dataframe, [entity], ['россия'], \n",
    "                          variable_types={v:'u' for v in vertexes},\n",
    "                          admissable_set=[])\n",
    "\n",
    "    mentioned = pd.DataFrame({entity: [1], 'россия': [1]})\n",
    "    neg_mentioned = pd.DataFrame({entity: [0], 'россия': [1]})\n",
    "    print(entity, effect.pdf(mentioned) - effect.pdf(neg_mentioned))"
   ]
  },
  {
   "cell_type": "markdown",
   "metadata": {},
   "source": [
    "Посчитаем вероятности упоминания центральной сущности 'россия' при упоминании (и отсутствии упоминания) сущностей, от которых она зависит"
   ]
  },
  {
   "cell_type": "code",
   "execution_count": 44,
   "metadata": {},
   "outputs": [
    {
     "name": "stdout",
     "output_type": "stream",
     "text": [
      "Вероятность_москва: упомянут = 0.11, не упомянут = 0.34\n",
      "Вероятность_тасс: упомянут = 0.06, не упомянут = 0.38\n",
      "Вероятность_европа: упомянут = 0.03, не упомянут = 0.41\n",
      "Вероятность_путин: упомянут = 0.07, не упомянут = 0.37\n",
      "Вероятность_крым: упомянут = 0.03, не упомянут = 0.42\n",
      "Вероятность_сирия: упомянут = 0.02, не упомянут = 0.42\n",
      "Вероятность_германия: упомянут = 0.03, не упомянут = 0.42\n",
      "Вероятность_интерфакс: упомянут = 0.03, не упомянут = 0.41\n"
     ]
    }
   ],
   "source": [
    "for entity in connected:\n",
    "    p_mentioned = np.dot(dataframe['россия'].values, dataframe[entity].values) / n\n",
    "    p_neg_mentioned = np.dot(dataframe['россия'].values, 1 - dataframe[entity].values) / n\n",
    "    print('Вероятность_{}: упомянут = {:.2f}, не упомянут = {:.2f}'.format(entity, p_mentioned, p_neg_mentioned))"
   ]
  },
  {
   "cell_type": "markdown",
   "metadata": {},
   "source": [
    "В качестве вывода можно сказать, что в новостях ленты в основном речь идет о России, Довольно часто вместе с Россией упоминается и Владимир Владимирович, чего, в принципе, и стоило ожидать."
   ]
  },
  {
   "cell_type": "code",
   "execution_count": null,
   "metadata": {},
   "outputs": [],
   "source": []
  }
 ],
 "metadata": {
  "kernelspec": {
   "display_name": "Python 3",
   "language": "python",
   "name": "python3"
  },
  "language_info": {
   "codemirror_mode": {
    "name": "ipython",
    "version": 3
   },
   "file_extension": ".py",
   "mimetype": "text/x-python",
   "name": "python",
   "nbconvert_exporter": "python",
   "pygments_lexer": "ipython3",
   "version": "3.7.3"
  }
 },
 "nbformat": 4,
 "nbformat_minor": 4
}
