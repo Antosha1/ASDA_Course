{
 "cells": [
  {
   "cell_type": "code",
   "execution_count": 1,
   "metadata": {},
   "outputs": [],
   "source": [
    "import pandas as pd\n",
    "import numpy as np\n",
    "import seaborn as sns\n",
    "import scipy.stats as st"
   ]
  },
  {
   "cell_type": "code",
   "execution_count": 2,
   "metadata": {},
   "outputs": [],
   "source": [
    "data = pd.read_csv('../data/sotnikov.ad_hw8.csv', header=None)"
   ]
  },
  {
   "cell_type": "code",
   "execution_count": 3,
   "metadata": {},
   "outputs": [
    {
     "data": {
      "text/html": [
       "<div>\n",
       "<style scoped>\n",
       "    .dataframe tbody tr th:only-of-type {\n",
       "        vertical-align: middle;\n",
       "    }\n",
       "\n",
       "    .dataframe tbody tr th {\n",
       "        vertical-align: top;\n",
       "    }\n",
       "\n",
       "    .dataframe thead th {\n",
       "        text-align: right;\n",
       "    }\n",
       "</style>\n",
       "<table border=\"1\" class=\"dataframe\">\n",
       "  <thead>\n",
       "    <tr style=\"text-align: right;\">\n",
       "      <th></th>\n",
       "      <th>0</th>\n",
       "      <th>1</th>\n",
       "      <th>2</th>\n",
       "      <th>3</th>\n",
       "      <th>4</th>\n",
       "      <th>5</th>\n",
       "      <th>6</th>\n",
       "      <th>7</th>\n",
       "      <th>8</th>\n",
       "      <th>9</th>\n",
       "      <th>10</th>\n",
       "    </tr>\n",
       "  </thead>\n",
       "  <tbody>\n",
       "    <tr>\n",
       "      <th>0</th>\n",
       "      <td>22.320766</td>\n",
       "      <td>-0.959725</td>\n",
       "      <td>0.124659</td>\n",
       "      <td>-0.688195</td>\n",
       "      <td>2.886640</td>\n",
       "      <td>0.501605</td>\n",
       "      <td>-0.938642</td>\n",
       "      <td>-0.397750</td>\n",
       "      <td>-0.627190</td>\n",
       "      <td>0.624186</td>\n",
       "      <td>-0.416243</td>\n",
       "    </tr>\n",
       "    <tr>\n",
       "      <th>1</th>\n",
       "      <td>22.320559</td>\n",
       "      <td>-1.169794</td>\n",
       "      <td>-1.355602</td>\n",
       "      <td>-0.145264</td>\n",
       "      <td>-1.681161</td>\n",
       "      <td>0.387861</td>\n",
       "      <td>-1.183301</td>\n",
       "      <td>0.048720</td>\n",
       "      <td>0.462108</td>\n",
       "      <td>-0.022408</td>\n",
       "      <td>-0.773925</td>\n",
       "    </tr>\n",
       "    <tr>\n",
       "      <th>2</th>\n",
       "      <td>22.320658</td>\n",
       "      <td>0.862509</td>\n",
       "      <td>0.072770</td>\n",
       "      <td>0.707932</td>\n",
       "      <td>-1.490631</td>\n",
       "      <td>-1.350281</td>\n",
       "      <td>0.738829</td>\n",
       "      <td>-0.203895</td>\n",
       "      <td>-1.232825</td>\n",
       "      <td>-1.936599</td>\n",
       "      <td>-1.365431</td>\n",
       "    </tr>\n",
       "    <tr>\n",
       "      <th>3</th>\n",
       "      <td>22.320674</td>\n",
       "      <td>0.146918</td>\n",
       "      <td>-1.504814</td>\n",
       "      <td>-1.132553</td>\n",
       "      <td>-1.053001</td>\n",
       "      <td>0.921663</td>\n",
       "      <td>-1.089101</td>\n",
       "      <td>0.065049</td>\n",
       "      <td>-1.362420</td>\n",
       "      <td>1.573880</td>\n",
       "      <td>0.349806</td>\n",
       "    </tr>\n",
       "    <tr>\n",
       "      <th>4</th>\n",
       "      <td>22.320560</td>\n",
       "      <td>0.383465</td>\n",
       "      <td>-0.402293</td>\n",
       "      <td>0.310915</td>\n",
       "      <td>-1.307309</td>\n",
       "      <td>-1.189256</td>\n",
       "      <td>-0.224382</td>\n",
       "      <td>0.942178</td>\n",
       "      <td>-0.454520</td>\n",
       "      <td>0.086573</td>\n",
       "      <td>0.370579</td>\n",
       "    </tr>\n",
       "  </tbody>\n",
       "</table>\n",
       "</div>"
      ],
      "text/plain": [
       "          0         1         2         3         4         5         6   \\\n",
       "0  22.320766 -0.959725  0.124659 -0.688195  2.886640  0.501605 -0.938642   \n",
       "1  22.320559 -1.169794 -1.355602 -0.145264 -1.681161  0.387861 -1.183301   \n",
       "2  22.320658  0.862509  0.072770  0.707932 -1.490631 -1.350281  0.738829   \n",
       "3  22.320674  0.146918 -1.504814 -1.132553 -1.053001  0.921663 -1.089101   \n",
       "4  22.320560  0.383465 -0.402293  0.310915 -1.307309 -1.189256 -0.224382   \n",
       "\n",
       "         7         8         9         10  \n",
       "0 -0.397750 -0.627190  0.624186 -0.416243  \n",
       "1  0.048720  0.462108 -0.022408 -0.773925  \n",
       "2 -0.203895 -1.232825 -1.936599 -1.365431  \n",
       "3  0.065049 -1.362420  1.573880  0.349806  \n",
       "4  0.942178 -0.454520  0.086573  0.370579  "
      ]
     },
     "execution_count": 3,
     "metadata": {},
     "output_type": "execute_result"
    }
   ],
   "source": [
    "data.head()"
   ]
  },
  {
   "cell_type": "code",
   "execution_count": 4,
   "metadata": {},
   "outputs": [
    {
     "data": {
      "text/html": [
       "<div>\n",
       "<style scoped>\n",
       "    .dataframe tbody tr th:only-of-type {\n",
       "        vertical-align: middle;\n",
       "    }\n",
       "\n",
       "    .dataframe tbody tr th {\n",
       "        vertical-align: top;\n",
       "    }\n",
       "\n",
       "    .dataframe thead th {\n",
       "        text-align: right;\n",
       "    }\n",
       "</style>\n",
       "<table border=\"1\" class=\"dataframe\">\n",
       "  <thead>\n",
       "    <tr style=\"text-align: right;\">\n",
       "      <th></th>\n",
       "      <th>0</th>\n",
       "      <th>1</th>\n",
       "      <th>2</th>\n",
       "      <th>3</th>\n",
       "      <th>4</th>\n",
       "      <th>5</th>\n",
       "      <th>6</th>\n",
       "      <th>7</th>\n",
       "      <th>8</th>\n",
       "      <th>9</th>\n",
       "      <th>10</th>\n",
       "    </tr>\n",
       "  </thead>\n",
       "  <tbody>\n",
       "    <tr>\n",
       "      <th>count</th>\n",
       "      <td>1000.000000</td>\n",
       "      <td>1000.000000</td>\n",
       "      <td>1000.000000</td>\n",
       "      <td>1000.000000</td>\n",
       "      <td>1000.000000</td>\n",
       "      <td>1000.000000</td>\n",
       "      <td>1000.000000</td>\n",
       "      <td>1000.000000</td>\n",
       "      <td>1000.000000</td>\n",
       "      <td>1000.000000</td>\n",
       "      <td>1000.000000</td>\n",
       "    </tr>\n",
       "    <tr>\n",
       "      <th>mean</th>\n",
       "      <td>22.422709</td>\n",
       "      <td>0.026962</td>\n",
       "      <td>-0.033685</td>\n",
       "      <td>0.020382</td>\n",
       "      <td>0.004260</td>\n",
       "      <td>0.020822</td>\n",
       "      <td>0.020126</td>\n",
       "      <td>-0.018570</td>\n",
       "      <td>0.065698</td>\n",
       "      <td>-0.021103</td>\n",
       "      <td>-0.008192</td>\n",
       "    </tr>\n",
       "    <tr>\n",
       "      <th>std</th>\n",
       "      <td>5.632984</td>\n",
       "      <td>1.000510</td>\n",
       "      <td>0.995136</td>\n",
       "      <td>0.992364</td>\n",
       "      <td>1.039687</td>\n",
       "      <td>1.009872</td>\n",
       "      <td>1.023047</td>\n",
       "      <td>0.998440</td>\n",
       "      <td>0.986665</td>\n",
       "      <td>1.000105</td>\n",
       "      <td>0.984891</td>\n",
       "    </tr>\n",
       "    <tr>\n",
       "      <th>min</th>\n",
       "      <td>0.010000</td>\n",
       "      <td>-3.101080</td>\n",
       "      <td>-3.016477</td>\n",
       "      <td>-3.295724</td>\n",
       "      <td>-4.157458</td>\n",
       "      <td>-3.153689</td>\n",
       "      <td>-2.864447</td>\n",
       "      <td>-3.490535</td>\n",
       "      <td>-2.878937</td>\n",
       "      <td>-3.147737</td>\n",
       "      <td>-3.099638</td>\n",
       "    </tr>\n",
       "    <tr>\n",
       "      <th>25%</th>\n",
       "      <td>20.181847</td>\n",
       "      <td>-0.672916</td>\n",
       "      <td>-0.715741</td>\n",
       "      <td>-0.661268</td>\n",
       "      <td>-0.706002</td>\n",
       "      <td>-0.668973</td>\n",
       "      <td>-0.679001</td>\n",
       "      <td>-0.649695</td>\n",
       "      <td>-0.597469</td>\n",
       "      <td>-0.687292</td>\n",
       "      <td>-0.670468</td>\n",
       "    </tr>\n",
       "    <tr>\n",
       "      <th>50%</th>\n",
       "      <td>22.320658</td>\n",
       "      <td>0.030494</td>\n",
       "      <td>-0.032578</td>\n",
       "      <td>0.036589</td>\n",
       "      <td>0.032805</td>\n",
       "      <td>-0.009112</td>\n",
       "      <td>0.000432</td>\n",
       "      <td>-0.030796</td>\n",
       "      <td>0.050164</td>\n",
       "      <td>0.027257</td>\n",
       "      <td>-0.024664</td>\n",
       "    </tr>\n",
       "    <tr>\n",
       "      <th>75%</th>\n",
       "      <td>24.448936</td>\n",
       "      <td>0.702735</td>\n",
       "      <td>0.618848</td>\n",
       "      <td>0.708211</td>\n",
       "      <td>0.701133</td>\n",
       "      <td>0.674972</td>\n",
       "      <td>0.723378</td>\n",
       "      <td>0.665959</td>\n",
       "      <td>0.733932</td>\n",
       "      <td>0.636726</td>\n",
       "      <td>0.654236</td>\n",
       "    </tr>\n",
       "    <tr>\n",
       "      <th>max</th>\n",
       "      <td>46.585676</td>\n",
       "      <td>4.042908</td>\n",
       "      <td>3.202959</td>\n",
       "      <td>2.974298</td>\n",
       "      <td>3.034033</td>\n",
       "      <td>3.025533</td>\n",
       "      <td>3.170064</td>\n",
       "      <td>2.583814</td>\n",
       "      <td>3.052566</td>\n",
       "      <td>2.945397</td>\n",
       "      <td>3.095206</td>\n",
       "    </tr>\n",
       "  </tbody>\n",
       "</table>\n",
       "</div>"
      ],
      "text/plain": [
       "                0            1            2            3            4   \\\n",
       "count  1000.000000  1000.000000  1000.000000  1000.000000  1000.000000   \n",
       "mean     22.422709     0.026962    -0.033685     0.020382     0.004260   \n",
       "std       5.632984     1.000510     0.995136     0.992364     1.039687   \n",
       "min       0.010000    -3.101080    -3.016477    -3.295724    -4.157458   \n",
       "25%      20.181847    -0.672916    -0.715741    -0.661268    -0.706002   \n",
       "50%      22.320658     0.030494    -0.032578     0.036589     0.032805   \n",
       "75%      24.448936     0.702735     0.618848     0.708211     0.701133   \n",
       "max      46.585676     4.042908     3.202959     2.974298     3.034033   \n",
       "\n",
       "                5            6            7            8            9   \\\n",
       "count  1000.000000  1000.000000  1000.000000  1000.000000  1000.000000   \n",
       "mean      0.020822     0.020126    -0.018570     0.065698    -0.021103   \n",
       "std       1.009872     1.023047     0.998440     0.986665     1.000105   \n",
       "min      -3.153689    -2.864447    -3.490535    -2.878937    -3.147737   \n",
       "25%      -0.668973    -0.679001    -0.649695    -0.597469    -0.687292   \n",
       "50%      -0.009112     0.000432    -0.030796     0.050164     0.027257   \n",
       "75%       0.674972     0.723378     0.665959     0.733932     0.636726   \n",
       "max       3.025533     3.170064     2.583814     3.052566     2.945397   \n",
       "\n",
       "                10  \n",
       "count  1000.000000  \n",
       "mean     -0.008192  \n",
       "std       0.984891  \n",
       "min      -3.099638  \n",
       "25%      -0.670468  \n",
       "50%      -0.024664  \n",
       "75%       0.654236  \n",
       "max       3.095206  "
      ]
     },
     "execution_count": 4,
     "metadata": {},
     "output_type": "execute_result"
    }
   ],
   "source": [
    "data.describe()"
   ]
  },
  {
   "cell_type": "code",
   "execution_count": 8,
   "metadata": {},
   "outputs": [],
   "source": [
    "x = data.T.values"
   ]
  },
  {
   "cell_type": "code",
   "execution_count": 9,
   "metadata": {},
   "outputs": [
    {
     "data": {
      "text/plain": [
       "array([[ 2.23207664e+01,  2.23205594e+01,  2.23206580e+01, ...,\n",
       "         1.81344956e+01,  1.26245760e+01,  2.35962517e+01],\n",
       "       [-9.59725237e-01, -1.16979378e+00,  8.62509444e-01, ...,\n",
       "        -1.12486823e-01, -1.01121679e+00, -1.15004682e+00],\n",
       "       [ 1.24658624e-01, -1.35560238e+00,  7.27700995e-02, ...,\n",
       "        -1.25220077e+00, -1.52475840e+00, -2.19131501e-01],\n",
       "       ...,\n",
       "       [-6.27189774e-01,  4.62107876e-01, -1.23282463e+00, ...,\n",
       "         3.03850592e-01,  2.89448630e-01,  5.85775869e-01],\n",
       "       [ 6.24185821e-01, -2.24082609e-02, -1.93659877e+00, ...,\n",
       "        -1.65810673e+00, -6.77358131e-01, -9.65436205e-01],\n",
       "       [-4.16242674e-01, -7.73924726e-01, -1.36543143e+00, ...,\n",
       "         2.37305248e+00,  8.62104023e-01, -2.13565269e+00]])"
      ]
     },
     "execution_count": 9,
     "metadata": {},
     "output_type": "execute_result"
    }
   ],
   "source": [
    "x"
   ]
  },
  {
   "cell_type": "code",
   "execution_count": 13,
   "metadata": {},
   "outputs": [
    {
     "data": {
      "text/plain": [
       "11"
      ]
     },
     "execution_count": 13,
     "metadata": {},
     "output_type": "execute_result"
    }
   ],
   "source": [
    "len(x)"
   ]
  },
  {
   "cell_type": "markdown",
   "metadata": {},
   "source": [
    "#### 1) Постройте линейную модель Y от X и свободного коэффициента. Проверьте, есть ли гетероскедастичность в выборке с использованием критерия Бройша-Пагана (использовать F-test, см. справку по критерию)"
   ]
  },
  {
   "cell_type": "code",
   "execution_count": null,
   "metadata": {},
   "outputs": [],
   "source": []
  },
  {
   "cell_type": "markdown",
   "metadata": {},
   "source": [
    "#### 2) Оптимальное значение lambda для преобразования Бокса-Кокса на переменную Y (использовать scipy.stats) "
   ]
  },
  {
   "cell_type": "code",
   "execution_count": null,
   "metadata": {},
   "outputs": [],
   "source": []
  },
  {
   "cell_type": "markdown",
   "metadata": {},
   "source": [
    "#### 3) Постройте линейную модель Y от X и свободного коэффициента для первых 100 элементов выборки. Сколько переменных являются избыточными согласно t-критерию? Поправку на множественность гипотез проигнорировать"
   ]
  },
  {
   "cell_type": "code",
   "execution_count": null,
   "metadata": {},
   "outputs": [],
   "source": []
  },
  {
   "cell_type": "markdown",
   "metadata": {},
   "source": [
    "#### 4) Имеет ли смысл данная модель согласно F-критерию?"
   ]
  },
  {
   "cell_type": "code",
   "execution_count": null,
   "metadata": {},
   "outputs": [],
   "source": []
  },
  {
   "cell_type": "markdown",
   "metadata": {},
   "source": [
    "#### 5) Можно ли обнулить первые четыре переменные согласно критерию Вальда?"
   ]
  },
  {
   "cell_type": "code",
   "execution_count": null,
   "metadata": {},
   "outputs": [],
   "source": []
  },
  {
   "cell_type": "code",
   "execution_count": null,
   "metadata": {},
   "outputs": [],
   "source": []
  }
 ],
 "metadata": {
  "kernelspec": {
   "display_name": "Python 3",
   "language": "python",
   "name": "python3"
  },
  "language_info": {
   "codemirror_mode": {
    "name": "ipython",
    "version": 3
   },
   "file_extension": ".py",
   "mimetype": "text/x-python",
   "name": "python",
   "nbconvert_exporter": "python",
   "pygments_lexer": "ipython3",
   "version": "3.7.6"
  }
 },
 "nbformat": 4,
 "nbformat_minor": 4
}
