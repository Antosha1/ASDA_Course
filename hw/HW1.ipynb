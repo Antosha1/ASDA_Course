{
 "cells": [
  {
   "cell_type": "markdown",
   "metadata": {},
   "source": [
    "# Homework 1"
   ]
  },
  {
   "cell_type": "code",
   "execution_count": 1,
   "metadata": {},
   "outputs": [],
   "source": [
    "import numpy as np\n",
    "import pandas as pd\n",
    "import scipy.stats as st\n",
    "from pprint import pprint\n",
    "import matplotlib.pyplot as plt\n",
    "import seaborn as sns\n",
    "%matplotlib inline"
   ]
  },
  {
   "cell_type": "code",
   "execution_count": 2,
   "metadata": {},
   "outputs": [],
   "source": [
    "data = pd.read_csv('../data/s.csv', header=None)"
   ]
  },
  {
   "cell_type": "code",
   "execution_count": 3,
   "metadata": {},
   "outputs": [
    {
     "data": {
      "text/html": [
       "<div>\n",
       "<style scoped>\n",
       "    .dataframe tbody tr th:only-of-type {\n",
       "        vertical-align: middle;\n",
       "    }\n",
       "\n",
       "    .dataframe tbody tr th {\n",
       "        vertical-align: top;\n",
       "    }\n",
       "\n",
       "    .dataframe thead th {\n",
       "        text-align: right;\n",
       "    }\n",
       "</style>\n",
       "<table border=\"1\" class=\"dataframe\">\n",
       "  <thead>\n",
       "    <tr style=\"text-align: right;\">\n",
       "      <th></th>\n",
       "      <th>0</th>\n",
       "    </tr>\n",
       "  </thead>\n",
       "  <tbody>\n",
       "    <tr>\n",
       "      <th>0</th>\n",
       "      <td>-61.0</td>\n",
       "    </tr>\n",
       "    <tr>\n",
       "      <th>1</th>\n",
       "      <td>57.0</td>\n",
       "    </tr>\n",
       "    <tr>\n",
       "      <th>2</th>\n",
       "      <td>87.0</td>\n",
       "    </tr>\n",
       "    <tr>\n",
       "      <th>3</th>\n",
       "      <td>176.0</td>\n",
       "    </tr>\n",
       "    <tr>\n",
       "      <th>4</th>\n",
       "      <td>-56.0</td>\n",
       "    </tr>\n",
       "  </tbody>\n",
       "</table>\n",
       "</div>"
      ],
      "text/plain": [
       "       0\n",
       "0  -61.0\n",
       "1   57.0\n",
       "2   87.0\n",
       "3  176.0\n",
       "4  -56.0"
      ]
     },
     "execution_count": 3,
     "metadata": {},
     "output_type": "execute_result"
    }
   ],
   "source": [
    "data.head()"
   ]
  },
  {
   "cell_type": "code",
   "execution_count": 4,
   "metadata": {},
   "outputs": [
    {
     "name": "stdout",
     "output_type": "stream",
     "text": [
      "array([[-61.],\n",
      "       [ 57.],\n",
      "       [ 87.],\n",
      "       ...,\n",
      "       [129.],\n",
      "       [ 85.],\n",
      "       [138.]])\n"
     ]
    }
   ],
   "source": [
    "x = data.values\n",
    "pprint(x)"
   ]
  },
  {
   "cell_type": "code",
   "execution_count": 5,
   "metadata": {},
   "outputs": [
    {
     "data": {
      "text/plain": [
       "array([195.])"
      ]
     },
     "execution_count": 5,
     "metadata": {},
     "output_type": "execute_result"
    }
   ],
   "source": [
    "x[5011]"
   ]
  },
  {
   "cell_type": "markdown",
   "metadata": {},
   "source": [
    "#### 1) Среднее"
   ]
  },
  {
   "cell_type": "code",
   "execution_count": 6,
   "metadata": {},
   "outputs": [
    {
     "name": "stdout",
     "output_type": "stream",
     "text": [
      "Mean value = 1.032\n"
     ]
    }
   ],
   "source": [
    "print(\"Mean value = {}\".format(np.mean(x).round(3)))"
   ]
  },
  {
   "cell_type": "markdown",
   "metadata": {},
   "source": [
    "#### 2) Медиана"
   ]
  },
  {
   "cell_type": "code",
   "execution_count": 7,
   "metadata": {},
   "outputs": [
    {
     "name": "stdout",
     "output_type": "stream",
     "text": [
      "Median = 0.0\n"
     ]
    }
   ],
   "source": [
    "print(\"Median = {}\".format(np.median(x).round(3)))"
   ]
  },
  {
   "cell_type": "markdown",
   "metadata": {},
   "source": [
    "#### 3) Дисперсия (несмещенная оценка)"
   ]
  },
  {
   "cell_type": "code",
   "execution_count": 8,
   "metadata": {},
   "outputs": [
    {
     "name": "stdout",
     "output_type": "stream",
     "text": [
      "std = 143.933\n"
     ]
    }
   ],
   "source": [
    "print('std = {}'.format(np.std(x, ddof=1).round(3)))"
   ]
  },
  {
   "cell_type": "markdown",
   "metadata": {},
   "source": [
    "#### 4) Медиана для неотрицательных"
   ]
  },
  {
   "cell_type": "code",
   "execution_count": 9,
   "metadata": {},
   "outputs": [
    {
     "name": "stdout",
     "output_type": "stream",
     "text": [
      "Median = 125.0\n"
     ]
    }
   ],
   "source": [
    "print('Median = {}'.format(np.median(x[x >= 0]).round(3)))"
   ]
  },
  {
   "cell_type": "markdown",
   "metadata": {},
   "source": [
    "#### 5) Мода"
   ]
  },
  {
   "cell_type": "code",
   "execution_count": 10,
   "metadata": {},
   "outputs": [
    {
     "name": "stdout",
     "output_type": "stream",
     "text": [
      "mode = ModeResult(mode=array([[-225.]]), count=array([[36]]))\n"
     ]
    }
   ],
   "source": [
    "print('mode = {}'.format(st.mode(x)))"
   ]
  },
  {
   "cell_type": "markdown",
   "metadata": {},
   "source": [
    "#### 6) Число мод"
   ]
  },
  {
   "cell_type": "code",
   "execution_count": 11,
   "metadata": {},
   "outputs": [
    {
     "data": {
      "image/png": "[encoded data removed]",
      "text/plain": [
       "<Figure size 720x576 with 1 Axes>"
      ]
     },
     "metadata": {
      "needs_background": "light"
     },
     "output_type": "display_data"
    }
   ],
   "source": [
    "plt.rcParams['figure.figsize'] = (10, 8)\n",
    "\n",
    "sns.distplot(x);"
   ]
  },
  {
   "cell_type": "markdown",
   "metadata": {},
   "source": [
    "* Если мода - это глобальный максимум, то число мод равно 1\n",
    "* Если мода - это локальный максимум, то число мод равно 4"
   ]
  },
  {
   "cell_type": "markdown",
   "metadata": {},
   "source": [
    "#### 7) Порядковая статистика с номером 42"
   ]
  },
  {
   "cell_type": "code",
   "execution_count": 12,
   "metadata": {},
   "outputs": [
    {
     "name": "stdout",
     "output_type": "stream",
     "text": [
      "[-249.]\n"
     ]
    }
   ],
   "source": [
    "print(sorted(x)[41])"
   ]
  },
  {
   "cell_type": "code",
   "execution_count": 13,
   "metadata": {},
   "outputs": [
    {
     "data": {
      "text/plain": [
       "{-250.0: 20,\n",
       " -249.0: 22,\n",
       " -248.0: 18,\n",
       " -247.0: 22,\n",
       " -246.0: 21,\n",
       " -245.0: 17,\n",
       " -244.0: 13,\n",
       " -243.0: 12,\n",
       " -242.0: 13,\n",
       " -241.0: 10,\n",
       " -240.0: 21,\n",
       " -239.0: 21,\n",
       " -238.0: 21,\n",
       " -237.0: 25,\n",
       " -236.0: 21,\n",
       " -235.0: 17,\n",
       " -234.0: 19,\n",
       " -233.0: 18,\n",
       " -232.0: 19,\n",
       " -231.0: 17,\n",
       " -230.0: 13,\n",
       " -229.0: 21,\n",
       " -228.0: 12,\n",
       " -227.0: 23,\n",
       " -226.0: 22,\n",
       " -225.0: 36,\n",
       " -224.0: 15,\n",
       " -223.0: 27,\n",
       " -222.0: 21,\n",
       " -221.0: 26,\n",
       " -220.0: 17,\n",
       " -219.0: 23,\n",
       " -218.0: 20,\n",
       " -217.0: 23,\n",
       " -216.0: 17,\n",
       " -215.0: 19,\n",
       " -214.0: 13,\n",
       " -213.0: 22,\n",
       " -212.0: 25,\n",
       " -211.0: 18,\n",
       " -210.0: 17,\n",
       " -209.0: 17,\n",
       " -208.0: 18,\n",
       " -207.0: 19,\n",
       " -206.0: 24,\n",
       " -205.0: 16,\n",
       " -204.0: 19,\n",
       " -203.0: 15,\n",
       " -202.0: 24,\n",
       " -201.0: 21,\n",
       " -200.0: 17,\n",
       " -199.0: 24,\n",
       " -198.0: 21,\n",
       " -197.0: 29,\n",
       " -196.0: 24,\n",
       " -195.0: 23,\n",
       " -194.0: 24,\n",
       " -193.0: 21,\n",
       " -192.0: 13,\n",
       " -191.0: 22,\n",
       " -190.0: 20,\n",
       " -189.0: 18,\n",
       " -188.0: 17,\n",
       " -187.0: 15,\n",
       " -186.0: 25,\n",
       " -185.0: 23,\n",
       " -184.0: 23,\n",
       " -183.0: 27,\n",
       " -182.0: 14,\n",
       " -181.0: 13,\n",
       " -180.0: 18,\n",
       " -179.0: 21,\n",
       " -178.0: 25,\n",
       " -177.0: 21,\n",
       " -176.0: 17,\n",
       " -175.0: 13,\n",
       " -174.0: 19,\n",
       " -173.0: 19,\n",
       " -172.0: 22,\n",
       " -171.0: 17,\n",
       " -170.0: 18,\n",
       " -169.0: 14,\n",
       " -168.0: 25,\n",
       " -167.0: 20,\n",
       " -166.0: 26,\n",
       " -165.0: 16,\n",
       " -164.0: 19,\n",
       " -163.0: 17,\n",
       " -162.0: 15,\n",
       " -161.0: 15,\n",
       " -160.0: 28,\n",
       " -159.0: 12,\n",
       " -158.0: 15,\n",
       " -157.0: 25,\n",
       " -156.0: 18,\n",
       " -155.0: 14,\n",
       " -154.0: 23,\n",
       " -153.0: 27,\n",
       " -152.0: 16,\n",
       " -151.0: 21,\n",
       " -150.0: 16,\n",
       " -149.0: 15,\n",
       " -148.0: 14,\n",
       " -147.0: 13,\n",
       " -146.0: 22,\n",
       " -145.0: 18,\n",
       " -144.0: 20,\n",
       " -143.0: 28,\n",
       " -142.0: 19,\n",
       " -141.0: 16,\n",
       " -140.0: 26,\n",
       " -139.0: 12,\n",
       " -138.0: 12,\n",
       " -137.0: 32,\n",
       " -136.0: 18,\n",
       " -135.0: 22,\n",
       " -134.0: 23,\n",
       " -133.0: 15,\n",
       " -132.0: 19,\n",
       " -131.0: 18,\n",
       " -130.0: 31,\n",
       " -129.0: 21,\n",
       " -128.0: 17,\n",
       " -127.0: 21,\n",
       " -126.0: 13,\n",
       " -125.0: 22,\n",
       " -124.0: 27,\n",
       " -123.0: 23,\n",
       " -122.0: 28,\n",
       " -121.0: 31,\n",
       " -120.0: 15,\n",
       " -119.0: 11,\n",
       " -118.0: 23,\n",
       " -117.0: 11,\n",
       " -116.0: 27,\n",
       " -115.0: 8,\n",
       " -114.0: 19,\n",
       " -113.0: 15,\n",
       " -112.0: 15,\n",
       " -111.0: 15,\n",
       " -110.0: 17,\n",
       " -109.0: 30,\n",
       " -108.0: 24,\n",
       " -107.0: 20,\n",
       " -106.0: 24,\n",
       " -105.0: 23,\n",
       " -104.0: 18,\n",
       " -103.0: 22,\n",
       " -102.0: 15,\n",
       " -101.0: 24,\n",
       " -100.0: 15,\n",
       " -99.0: 19,\n",
       " -98.0: 20,\n",
       " -97.0: 13,\n",
       " -96.0: 20,\n",
       " -95.0: 13,\n",
       " -94.0: 19,\n",
       " -93.0: 23,\n",
       " -92.0: 20,\n",
       " -91.0: 27,\n",
       " -90.0: 17,\n",
       " -89.0: 19,\n",
       " -88.0: 22,\n",
       " -87.0: 17,\n",
       " -86.0: 22,\n",
       " -85.0: 25,\n",
       " -84.0: 13,\n",
       " -83.0: 18,\n",
       " -82.0: 21,\n",
       " -81.0: 20,\n",
       " -80.0: 25,\n",
       " -79.0: 14,\n",
       " -78.0: 21,\n",
       " -77.0: 14,\n",
       " -76.0: 19,\n",
       " -75.0: 23,\n",
       " -74.0: 18,\n",
       " -73.0: 17,\n",
       " -72.0: 23,\n",
       " -71.0: 27,\n",
       " -70.0: 11,\n",
       " -69.0: 26,\n",
       " -68.0: 16,\n",
       " -67.0: 23,\n",
       " -66.0: 22,\n",
       " -65.0: 29,\n",
       " -64.0: 35,\n",
       " -63.0: 26,\n",
       " -62.0: 18,\n",
       " -61.0: 21,\n",
       " -60.0: 19,\n",
       " -59.0: 21,\n",
       " -58.0: 31,\n",
       " -57.0: 24,\n",
       " -56.0: 29,\n",
       " -55.0: 25,\n",
       " -54.0: 19,\n",
       " -53.0: 20,\n",
       " -52.0: 23,\n",
       " -51.0: 20,\n",
       " -50.0: 27,\n",
       " -49.0: 13,\n",
       " -48.0: 19,\n",
       " -47.0: 15,\n",
       " -46.0: 20,\n",
       " -45.0: 13,\n",
       " -44.0: 27,\n",
       " -43.0: 18,\n",
       " -42.0: 20,\n",
       " -41.0: 30,\n",
       " -40.0: 22,\n",
       " -39.0: 18,\n",
       " -38.0: 28,\n",
       " -37.0: 29,\n",
       " -36.0: 13,\n",
       " -35.0: 23,\n",
       " -34.0: 23,\n",
       " -33.0: 18,\n",
       " -32.0: 18,\n",
       " -31.0: 21,\n",
       " -30.0: 20,\n",
       " -29.0: 23,\n",
       " -28.0: 13,\n",
       " -27.0: 24,\n",
       " -26.0: 27,\n",
       " -25.0: 24,\n",
       " -24.0: 26,\n",
       " -23.0: 17,\n",
       " -22.0: 23,\n",
       " -21.0: 13,\n",
       " -20.0: 15,\n",
       " -19.0: 21,\n",
       " -18.0: 15,\n",
       " -17.0: 17,\n",
       " -16.0: 24,\n",
       " -15.0: 20,\n",
       " -14.0: 17,\n",
       " -13.0: 26,\n",
       " -12.0: 19,\n",
       " -11.0: 16,\n",
       " -10.0: 22,\n",
       " -9.0: 22,\n",
       " -8.0: 21,\n",
       " -7.0: 15,\n",
       " -6.0: 20,\n",
       " -5.0: 23,\n",
       " -4.0: 21,\n",
       " -3.0: 19,\n",
       " -2.0: 15,\n",
       " -1.0: 18,\n",
       " 0.0: 23,\n",
       " 1.0: 21,\n",
       " 2.0: 15,\n",
       " 3.0: 14,\n",
       " 4.0: 14,\n",
       " 5.0: 12,\n",
       " 6.0: 20,\n",
       " 7.0: 27,\n",
       " 8.0: 20,\n",
       " 9.0: 14,\n",
       " 10.0: 14,\n",
       " 11.0: 21,\n",
       " 12.0: 20,\n",
       " 13.0: 22,\n",
       " 14.0: 20,\n",
       " 15.0: 19,\n",
       " 16.0: 22,\n",
       " 17.0: 21,\n",
       " 18.0: 12,\n",
       " 19.0: 22,\n",
       " 20.0: 20,\n",
       " 21.0: 20,\n",
       " 22.0: 17,\n",
       " 23.0: 21,\n",
       " 24.0: 13,\n",
       " 25.0: 23,\n",
       " 26.0: 14,\n",
       " 27.0: 23,\n",
       " 28.0: 29,\n",
       " 29.0: 18,\n",
       " 30.0: 21,\n",
       " 31.0: 12,\n",
       " 32.0: 21,\n",
       " 33.0: 23,\n",
       " 34.0: 25,\n",
       " 35.0: 16,\n",
       " 36.0: 21,\n",
       " 37.0: 19,\n",
       " 38.0: 19,\n",
       " 39.0: 28,\n",
       " 40.0: 21,\n",
       " 41.0: 16,\n",
       " 42.0: 13,\n",
       " 43.0: 15,\n",
       " 44.0: 24,\n",
       " 45.0: 26,\n",
       " 46.0: 14,\n",
       " 47.0: 20,\n",
       " 48.0: 20,\n",
       " 49.0: 20,\n",
       " 50.0: 18,\n",
       " 51.0: 18,\n",
       " 52.0: 23,\n",
       " 53.0: 14,\n",
       " 54.0: 21,\n",
       " 55.0: 24,\n",
       " 56.0: 23,\n",
       " 57.0: 21,\n",
       " 58.0: 21,\n",
       " 59.0: 16,\n",
       " 60.0: 13,\n",
       " 61.0: 24,\n",
       " 62.0: 22,\n",
       " 63.0: 15,\n",
       " 64.0: 24,\n",
       " 65.0: 24,\n",
       " 66.0: 24,\n",
       " 67.0: 24,\n",
       " 68.0: 23,\n",
       " 69.0: 15,\n",
       " 70.0: 25,\n",
       " 71.0: 13,\n",
       " 72.0: 18,\n",
       " 73.0: 29,\n",
       " 74.0: 20,\n",
       " 75.0: 16,\n",
       " 76.0: 17,\n",
       " 77.0: 14,\n",
       " 78.0: 16,\n",
       " 79.0: 25,\n",
       " 80.0: 27,\n",
       " 81.0: 31,\n",
       " 82.0: 20,\n",
       " 83.0: 15,\n",
       " 84.0: 26,\n",
       " 85.0: 27,\n",
       " 86.0: 17,\n",
       " 87.0: 15,\n",
       " 88.0: 13,\n",
       " 89.0: 20,\n",
       " 90.0: 15,\n",
       " 91.0: 19,\n",
       " 92.0: 23,\n",
       " 93.0: 23,\n",
       " 94.0: 18,\n",
       " 95.0: 36,\n",
       " 96.0: 21,\n",
       " 97.0: 21,\n",
       " 98.0: 24,\n",
       " 99.0: 17,\n",
       " 100.0: 23,\n",
       " 101.0: 18,\n",
       " 102.0: 23,\n",
       " 103.0: 22,\n",
       " 104.0: 21,\n",
       " 105.0: 22,\n",
       " 106.0: 21,\n",
       " 107.0: 14,\n",
       " 108.0: 23,\n",
       " 109.0: 22,\n",
       " 110.0: 17,\n",
       " 111.0: 22,\n",
       " 112.0: 14,\n",
       " 113.0: 24,\n",
       " 114.0: 21,\n",
       " 115.0: 23,\n",
       " 116.0: 17,\n",
       " 117.0: 15,\n",
       " 118.0: 22,\n",
       " 119.0: 24,\n",
       " 120.0: 17,\n",
       " 121.0: 25,\n",
       " 122.0: 24,\n",
       " 123.0: 19,\n",
       " 124.0: 19,\n",
       " 125.0: 14,\n",
       " 126.0: 18,\n",
       " 127.0: 14,\n",
       " 128.0: 13,\n",
       " 129.0: 22,\n",
       " 130.0: 15,\n",
       " 131.0: 18,\n",
       " 132.0: 19,\n",
       " 133.0: 14,\n",
       " 134.0: 18,\n",
       " 135.0: 28,\n",
       " 136.0: 22,\n",
       " 137.0: 17,\n",
       " 138.0: 16,\n",
       " 139.0: 16,\n",
       " 140.0: 15,\n",
       " 141.0: 30,\n",
       " 142.0: 24,\n",
       " 143.0: 26,\n",
       " 144.0: 18,\n",
       " 145.0: 21,\n",
       " 146.0: 18,\n",
       " 147.0: 12,\n",
       " 148.0: 19,\n",
       " 149.0: 17,\n",
       " 150.0: 18,\n",
       " 151.0: 18,\n",
       " 152.0: 23,\n",
       " 153.0: 22,\n",
       " 154.0: 19,\n",
       " 155.0: 33,\n",
       " 156.0: 27,\n",
       " 157.0: 22,\n",
       " 158.0: 17,\n",
       " 159.0: 18,\n",
       " 160.0: 18,\n",
       " 161.0: 15,\n",
       " 162.0: 23,\n",
       " 163.0: 24,\n",
       " 164.0: 27,\n",
       " 165.0: 29,\n",
       " 166.0: 16,\n",
       " 167.0: 18,\n",
       " 168.0: 24,\n",
       " 169.0: 23,\n",
       " 170.0: 22,\n",
       " 171.0: 27,\n",
       " 172.0: 19,\n",
       " 173.0: 27,\n",
       " 174.0: 21,\n",
       " 175.0: 24,\n",
       " 176.0: 15,\n",
       " 177.0: 24,\n",
       " 178.0: 19,\n",
       " 179.0: 22,\n",
       " 180.0: 12,\n",
       " 181.0: 29,\n",
       " 182.0: 22,\n",
       " 183.0: 19,\n",
       " 184.0: 14,\n",
       " 185.0: 12,\n",
       " 186.0: 17,\n",
       " 187.0: 17,\n",
       " 188.0: 25,\n",
       " 189.0: 26,\n",
       " 190.0: 17,\n",
       " 191.0: 16,\n",
       " 192.0: 21,\n",
       " 193.0: 18,\n",
       " 194.0: 15,\n",
       " 195.0: 25,\n",
       " 196.0: 22,\n",
       " 197.0: 22,\n",
       " 198.0: 25,\n",
       " 199.0: 13,\n",
       " 200.0: 24,\n",
       " 201.0: 15,\n",
       " 202.0: 32,\n",
       " 203.0: 18,\n",
       " 204.0: 17,\n",
       " 205.0: 23,\n",
       " 206.0: 17,\n",
       " 207.0: 22,\n",
       " 208.0: 22,\n",
       " 209.0: 17,\n",
       " 210.0: 20,\n",
       " 211.0: 25,\n",
       " 212.0: 14,\n",
       " 213.0: 20,\n",
       " 214.0: 14,\n",
       " 215.0: 24,\n",
       " 216.0: 27,\n",
       " 217.0: 28,\n",
       " 218.0: 24,\n",
       " 219.0: 23,\n",
       " 220.0: 14,\n",
       " 221.0: 13,\n",
       " 222.0: 18,\n",
       " 223.0: 18,\n",
       " 224.0: 24,\n",
       " 225.0: 11,\n",
       " 226.0: 18,\n",
       " 227.0: 17,\n",
       " 228.0: 28,\n",
       " 229.0: 10,\n",
       " 230.0: 21,\n",
       " 231.0: 26,\n",
       " 232.0: 16,\n",
       " 233.0: 14,\n",
       " 234.0: 23,\n",
       " 235.0: 27,\n",
       " 236.0: 16,\n",
       " 237.0: 13,\n",
       " 238.0: 21,\n",
       " 239.0: 22,\n",
       " 240.0: 16,\n",
       " 241.0: 23,\n",
       " 242.0: 12,\n",
       " 243.0: 21,\n",
       " 244.0: 20,\n",
       " 245.0: 20,\n",
       " 246.0: 25,\n",
       " 247.0: 22,\n",
       " 248.0: 18,\n",
       " 249.0: 22,\n",
       " 250.0: 15}"
      ]
     },
     "execution_count": 13,
     "metadata": {},
     "output_type": "execute_result"
    }
   ],
   "source": [
    "unique, counts = np.unique(x, return_counts=True)\n",
    "dict(zip(unique, counts))"
   ]
  },
  {
   "cell_type": "code",
   "execution_count": 14,
   "metadata": {},
   "outputs": [
    {
     "data": {
      "text/plain": [
       "<matplotlib.axes._subplots.AxesSubplot at 0x1809f725898>"
      ]
     },
     "execution_count": 14,
     "metadata": {},
     "output_type": "execute_result"
    },
    {
     "data": {
      "image/png": "[encoded data removed]",
      "text/plain": [
       "<Figure size 720x576 with 1 Axes>"
      ]
     },
     "metadata": {
      "needs_background": "light"
     },
     "output_type": "display_data"
    }
   ],
   "source": [
    "data.plot.kde()"
   ]
  },
  {
   "cell_type": "code",
   "execution_count": null,
   "metadata": {},
   "outputs": [],
   "source": []
  }
 ],
 "metadata": {
  "kernelspec": {
   "display_name": "Python 3",
   "language": "python",
   "name": "python3"
  },
  "language_info": {
   "codemirror_mode": {
    "name": "ipython",
    "version": 3
   },
   "file_extension": ".py",
   "mimetype": "text/x-python",
   "name": "python",
   "nbconvert_exporter": "python",
   "pygments_lexer": "ipython3",
   "version": "3.7.1"
  }
 },
 "nbformat": 4,
 "nbformat_minor": 4
}
