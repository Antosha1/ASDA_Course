{
 "cells": [
  {
   "cell_type": "code",
   "execution_count": 1,
   "metadata": {},
   "outputs": [],
   "source": [
    "import pandas as pd\n",
    "import numpy as np\n",
    "import seaborn as sns\n",
    "import matplotlib.pyplot as plt\n",
    "import scipy.stats as st"
   ]
  },
  {
   "cell_type": "code",
   "execution_count": 2,
   "metadata": {},
   "outputs": [],
   "source": [
    "data = pd.read_csv('../data/sotnikov.ad_hw5.csv', header=None)"
   ]
  },
  {
   "cell_type": "code",
   "execution_count": 3,
   "metadata": {},
   "outputs": [
    {
     "data": {
      "text/html": [
       "<div>\n",
       "<style scoped>\n",
       "    .dataframe tbody tr th:only-of-type {\n",
       "        vertical-align: middle;\n",
       "    }\n",
       "\n",
       "    .dataframe tbody tr th {\n",
       "        vertical-align: top;\n",
       "    }\n",
       "\n",
       "    .dataframe thead th {\n",
       "        text-align: right;\n",
       "    }\n",
       "</style>\n",
       "<table border=\"1\" class=\"dataframe\">\n",
       "  <thead>\n",
       "    <tr style=\"text-align: right;\">\n",
       "      <th></th>\n",
       "      <th>0</th>\n",
       "      <th>1</th>\n",
       "    </tr>\n",
       "  </thead>\n",
       "  <tbody>\n",
       "    <tr>\n",
       "      <th>0</th>\n",
       "      <td>0.519791</td>\n",
       "      <td>-1.249603</td>\n",
       "    </tr>\n",
       "    <tr>\n",
       "      <th>1</th>\n",
       "      <td>-0.077951</td>\n",
       "      <td>-1.667572</td>\n",
       "    </tr>\n",
       "    <tr>\n",
       "      <th>2</th>\n",
       "      <td>-1.626379</td>\n",
       "      <td>-1.443194</td>\n",
       "    </tr>\n",
       "    <tr>\n",
       "      <th>3</th>\n",
       "      <td>-0.664207</td>\n",
       "      <td>-1.273486</td>\n",
       "    </tr>\n",
       "    <tr>\n",
       "      <th>4</th>\n",
       "      <td>-0.995388</td>\n",
       "      <td>-3.505135</td>\n",
       "    </tr>\n",
       "  </tbody>\n",
       "</table>\n",
       "</div>"
      ],
      "text/plain": [
       "          0         1\n",
       "0  0.519791 -1.249603\n",
       "1 -0.077951 -1.667572\n",
       "2 -1.626379 -1.443194\n",
       "3 -0.664207 -1.273486\n",
       "4 -0.995388 -3.505135"
      ]
     },
     "execution_count": 3,
     "metadata": {},
     "output_type": "execute_result"
    }
   ],
   "source": [
    "data.head()"
   ]
  },
  {
   "cell_type": "code",
   "execution_count": 4,
   "metadata": {},
   "outputs": [
    {
     "data": {
      "text/html": [
       "<div>\n",
       "<style scoped>\n",
       "    .dataframe tbody tr th:only-of-type {\n",
       "        vertical-align: middle;\n",
       "    }\n",
       "\n",
       "    .dataframe tbody tr th {\n",
       "        vertical-align: top;\n",
       "    }\n",
       "\n",
       "    .dataframe thead th {\n",
       "        text-align: right;\n",
       "    }\n",
       "</style>\n",
       "<table border=\"1\" class=\"dataframe\">\n",
       "  <thead>\n",
       "    <tr style=\"text-align: right;\">\n",
       "      <th></th>\n",
       "      <th>0</th>\n",
       "      <th>1</th>\n",
       "    </tr>\n",
       "  </thead>\n",
       "  <tbody>\n",
       "    <tr>\n",
       "      <th>count</th>\n",
       "      <td>100.000000</td>\n",
       "      <td>100.000000</td>\n",
       "    </tr>\n",
       "    <tr>\n",
       "      <th>mean</th>\n",
       "      <td>1000.040460</td>\n",
       "      <td>0.174399</td>\n",
       "    </tr>\n",
       "    <tr>\n",
       "      <th>std</th>\n",
       "      <td>9999.894943</td>\n",
       "      <td>5.015818</td>\n",
       "    </tr>\n",
       "    <tr>\n",
       "      <th>min</th>\n",
       "      <td>-1.811885</td>\n",
       "      <td>-16.787311</td>\n",
       "    </tr>\n",
       "    <tr>\n",
       "      <th>25%</th>\n",
       "      <td>-0.565280</td>\n",
       "      <td>-2.415024</td>\n",
       "    </tr>\n",
       "    <tr>\n",
       "      <th>50%</th>\n",
       "      <td>0.033179</td>\n",
       "      <td>0.351402</td>\n",
       "    </tr>\n",
       "    <tr>\n",
       "      <th>75%</th>\n",
       "      <td>0.648688</td>\n",
       "      <td>3.416428</td>\n",
       "    </tr>\n",
       "    <tr>\n",
       "      <th>max</th>\n",
       "      <td>99999.000000</td>\n",
       "      <td>11.512410</td>\n",
       "    </tr>\n",
       "  </tbody>\n",
       "</table>\n",
       "</div>"
      ],
      "text/plain": [
       "                  0           1\n",
       "count    100.000000  100.000000\n",
       "mean    1000.040460    0.174399\n",
       "std     9999.894943    5.015818\n",
       "min       -1.811885  -16.787311\n",
       "25%       -0.565280   -2.415024\n",
       "50%        0.033179    0.351402\n",
       "75%        0.648688    3.416428\n",
       "max    99999.000000   11.512410"
      ]
     },
     "execution_count": 4,
     "metadata": {},
     "output_type": "execute_result"
    }
   ],
   "source": [
    "data.describe()"
   ]
  },
  {
   "cell_type": "code",
   "execution_count": 5,
   "metadata": {},
   "outputs": [],
   "source": [
    "x = []\n",
    "for i in range(data.shape[1]):\n",
    "    x.append(list(data[i]))"
   ]
  },
  {
   "cell_type": "code",
   "execution_count": 6,
   "metadata": {},
   "outputs": [
    {
     "data": {
      "text/plain": [
       "[[0.5197908592168652,\n",
       "  -0.0779508980655252,\n",
       "  -1.6263794883033442,\n",
       "  -0.6642071100938455,\n",
       "  -0.9953882596970842,\n",
       "  -0.5757292313259231,\n",
       "  0.22412009120735044,\n",
       "  -0.326498795484722,\n",
       "  -0.4247943941513159,\n",
       "  -0.6477535126031457,\n",
       "  0.706937074986996,\n",
       "  -0.8781791329415028,\n",
       "  0.5632168548501777,\n",
       "  -0.33239111014107914,\n",
       "  -0.8703634362891584,\n",
       "  -0.03789456322045187,\n",
       "  -1.7174990639796963,\n",
       "  0.3244431097829916,\n",
       "  -1.8118850261766897,\n",
       "  -1.3387764564619686,\n",
       "  1.213071168262464,\n",
       "  0.2037357475955752,\n",
       "  2.7941584425795223,\n",
       "  0.664086637385346,\n",
       "  2.1133350152548847,\n",
       "  -0.935901729680351,\n",
       "  -0.3765200210997139,\n",
       "  0.9469386400515346,\n",
       "  -0.37160793153720884,\n",
       "  0.8344382818465262,\n",
       "  -0.9570668174616924,\n",
       "  1.004635641590073,\n",
       "  1.2992534789390375,\n",
       "  0.9970643235689998,\n",
       "  -0.3520589236621239,\n",
       "  -0.17483162330470278,\n",
       "  -0.6979593174085809,\n",
       "  -0.6443381423167469,\n",
       "  0.2854631538919355,\n",
       "  0.4864636037133661,\n",
       "  1.4068506177120887,\n",
       "  0.1004482435162256,\n",
       "  0.6837230266127178,\n",
       "  -0.22811966506668005,\n",
       "  -0.9937081343166542,\n",
       "  -0.3026670339580212,\n",
       "  0.1572455836916747,\n",
       "  0.07547314610225607,\n",
       "  0.19549182202606735,\n",
       "  1.683614951794301,\n",
       "  0.3389002888115828,\n",
       "  0.3301151407372966,\n",
       "  -1.2566246751592305,\n",
       "  0.5367786870742272,\n",
       "  -0.9887427936137342,\n",
       "  0.8645058547413811,\n",
       "  0.21665472965429375,\n",
       "  0.19918130604579487,\n",
       "  -0.5617965080222544,\n",
       "  -0.14865543931707198,\n",
       "  0.2927337401218204,\n",
       "  -0.158111296225404,\n",
       "  0.624685658015408,\n",
       "  -0.42201932621954313,\n",
       "  -0.15828811794812603,\n",
       "  0.046798987603374816,\n",
       "  1.2865040963133667,\n",
       "  -0.24479189532632245,\n",
       "  -0.6214653715904844,\n",
       "  1.6763866027289902,\n",
       "  1.689023287282854,\n",
       "  -0.9650294445673008,\n",
       "  2.26794922148968,\n",
       "  -1.7996846122160006,\n",
       "  1.4371337048441075,\n",
       "  0.955923959559253,\n",
       "  0.26595915591906893,\n",
       "  0.0375703357514872,\n",
       "  -0.6826758911933902,\n",
       "  -0.5560504494746001,\n",
       "  0.028788281179326983,\n",
       "  -0.4855061493005882,\n",
       "  -0.6492182014538952,\n",
       "  0.8618247712609146,\n",
       "  0.4284054239944892,\n",
       "  0.7785632456302218,\n",
       "  -0.08428143613420927,\n",
       "  0.31528573498241164,\n",
       "  0.692658275173294,\n",
       "  -0.5617192826521873,\n",
       "  0.9918223161854738,\n",
       "  -1.3537351372086062,\n",
       "  0.6435546839493231,\n",
       "  0.5495496103486712,\n",
       "  -1.0756074562335944,\n",
       "  0.013676670607762224,\n",
       "  -0.4998569737288333,\n",
       "  -0.4128022581854565,\n",
       "  -0.7618149956940534,\n",
       "  99999.0],\n",
       " [-1.249603484932809,\n",
       "  -1.667571569850151,\n",
       "  -1.4431940359330178,\n",
       "  -1.2734864901319964,\n",
       "  -3.5051348329077814,\n",
       "  -3.08201843462496,\n",
       "  3.782281220665244,\n",
       "  2.417577531995192,\n",
       "  4.375966773345853,\n",
       "  5.963423896126916,\n",
       "  -11.13642713030043,\n",
       "  -1.8054591370754172,\n",
       "  -1.909656050349168,\n",
       "  -4.54445511664846,\n",
       "  2.982261727247337,\n",
       "  -2.816568798156966,\n",
       "  4.962916254305728,\n",
       "  -16.787310690822164,\n",
       "  0.8870910178159299,\n",
       "  -6.944163136382772,\n",
       "  -1.9854211403774853,\n",
       "  4.8871143869805245,\n",
       "  3.6193802770084824,\n",
       "  -3.703786812879687,\n",
       "  3.758773840176276,\n",
       "  3.1402533539703885,\n",
       "  2.1610079159800124,\n",
       "  -2.3639635567238715,\n",
       "  -3.9640690602046935,\n",
       "  2.355941030114894,\n",
       "  -0.1720963377362006,\n",
       "  -0.4850895441782842,\n",
       "  -5.397462990859792,\n",
       "  -0.12243382156785007,\n",
       "  -3.9958315570582794,\n",
       "  1.7495047735223692,\n",
       "  2.00892445033518,\n",
       "  -0.6448008680999375,\n",
       "  -11.10825462167336,\n",
       "  5.383541935626241,\n",
       "  2.4622398059809663,\n",
       "  4.9391263415829725,\n",
       "  -4.273357396546642,\n",
       "  -8.40658499018928,\n",
       "  -1.945934573431824,\n",
       "  -2.612291758720118,\n",
       "  2.984927726952739,\n",
       "  7.0708001808605685,\n",
       "  3.3622015512124253,\n",
       "  0.397617919000506,\n",
       "  3.604797770321426,\n",
       "  3.9333349061243137,\n",
       "  0.7829779420466596,\n",
       "  1.6363549428946889,\n",
       "  6.416755211582906,\n",
       "  -2.5682051476445245,\n",
       "  3.463533422925793,\n",
       "  -0.8442877408017261,\n",
       "  6.877233344518645,\n",
       "  -5.177380846967533,\n",
       "  3.589027226667244,\n",
       "  3.095582709900191,\n",
       "  -1.3757837976629668,\n",
       "  -7.911384388889898,\n",
       "  0.2827796579273776,\n",
       "  1.639205933435198,\n",
       "  3.4007261717414248,\n",
       "  -0.927938122712209,\n",
       "  2.9820585880467787,\n",
       "  2.1717574708192444,\n",
       "  2.448572714552291,\n",
       "  -1.640080313434878,\n",
       "  -12.13264448068441,\n",
       "  6.029058449318582,\n",
       "  4.922565009350538,\n",
       "  0.20912809281295386,\n",
       "  -1.4571504922497516,\n",
       "  -4.988033114587437,\n",
       "  11.310637621957587,\n",
       "  -5.9642933268508855,\n",
       "  11.512409955545083,\n",
       "  -2.7328347866031777,\n",
       "  -0.18504402872850173,\n",
       "  5.54325044236599,\n",
       "  -12.73836588567949,\n",
       "  10.150388278638557,\n",
       "  7.385903583680973,\n",
       "  -0.6937921069066868,\n",
       "  6.930081989798601,\n",
       "  -1.4555811915369947,\n",
       "  1.1431950872700771,\n",
       "  -4.634752349169028,\n",
       "  0.30518531581306624,\n",
       "  5.733828502698975,\n",
       "  2.6024380232239617,\n",
       "  1.8704392693303833,\n",
       "  -5.949419326583017,\n",
       "  -2.139503227525061,\n",
       "  3.3631202762116406,\n",
       "  1.3136079790543582]]"
      ]
     },
     "execution_count": 6,
     "metadata": {},
     "output_type": "execute_result"
    }
   ],
   "source": [
    "x"
   ]
  },
  {
   "cell_type": "markdown",
   "metadata": {},
   "source": [
    "#### 1) Существует ли линейная взаимосвязь между столбцами выборки по t-критерию Стьюдента?"
   ]
  },
  {
   "cell_type": "code",
   "execution_count": 18,
   "metadata": {},
   "outputs": [
    {
     "name": "stdout",
     "output_type": "stream",
     "text": [
      "Pearson p-value=0.82\n"
     ]
    }
   ],
   "source": [
    "print('Pearson p-value={:.2f}'.format(st.pearsonr(x[0], x[1])[1]))"
   ]
  },
  {
   "cell_type": "markdown",
   "metadata": {},
   "source": [
    "#### 2) Существует ли линейная взаимосвязь между столбцами выборки по t-критерию Стьюдента, если исключить выбросы из выборки? "
   ]
  },
  {
   "cell_type": "code",
   "execution_count": 8,
   "metadata": {
    "scrolled": false
   },
   "outputs": [
    {
     "data": {
      "image/png": "[encoded data removed]",
      "text/plain": [
       "<Figure size 432x288 with 1 Axes>"
      ]
     },
     "metadata": {
      "needs_background": "light"
     },
     "output_type": "display_data"
    }
   ],
   "source": [
    "plt.hist(x[0]);"
   ]
  },
  {
   "cell_type": "code",
   "execution_count": 9,
   "metadata": {},
   "outputs": [],
   "source": [
    "x_0 = [a for a in x[0] if a < max(x[0])]"
   ]
  },
  {
   "cell_type": "code",
   "execution_count": 10,
   "metadata": {},
   "outputs": [
    {
     "data": {
      "text/plain": [
       "99"
      ]
     },
     "execution_count": 10,
     "metadata": {},
     "output_type": "execute_result"
    }
   ],
   "source": [
    "len(x_0)"
   ]
  },
  {
   "cell_type": "code",
   "execution_count": 11,
   "metadata": {},
   "outputs": [
    {
     "data": {
      "image/png": "[encoded data removed]",
      "text/plain": [
       "<Figure size 432x288 with 1 Axes>"
      ]
     },
     "metadata": {
      "needs_background": "light"
     },
     "output_type": "display_data"
    }
   ],
   "source": [
    "plt.hist(x_0);"
   ]
  },
  {
   "cell_type": "code",
   "execution_count": 21,
   "metadata": {},
   "outputs": [
    {
     "data": {
      "image/png": "[encoded data removed]",
      "text/plain": [
       "<Figure size 432x288 with 1 Axes>"
      ]
     },
     "metadata": {
      "needs_background": "light"
     },
     "output_type": "display_data"
    }
   ],
   "source": [
    "plt.hist(x[1], color='darkorange');"
   ]
  },
  {
   "cell_type": "code",
   "execution_count": 16,
   "metadata": {},
   "outputs": [
    {
     "name": "stdout",
     "output_type": "stream",
     "text": [
      "Variance = 5.015818442290526\n"
     ]
    }
   ],
   "source": [
    "print('Variance = {}'.format(np.std(x[1], ddof=1)))"
   ]
  },
  {
   "cell_type": "code",
   "execution_count": 13,
   "metadata": {},
   "outputs": [],
   "source": [
    "x_1 = [a for a in x[1] if a > min(x[1])]"
   ]
  },
  {
   "cell_type": "code",
   "execution_count": 14,
   "metadata": {},
   "outputs": [
    {
     "data": {
      "text/plain": [
       "99"
      ]
     },
     "execution_count": 14,
     "metadata": {},
     "output_type": "execute_result"
    }
   ],
   "source": [
    "len(x_1)"
   ]
  },
  {
   "cell_type": "code",
   "execution_count": 20,
   "metadata": {},
   "outputs": [
    {
     "data": {
      "image/png": "[encoded data removed]",
      "text/plain": [
       "<Figure size 432x288 with 1 Axes>"
      ]
     },
     "metadata": {
      "needs_background": "light"
     },
     "output_type": "display_data"
    }
   ],
   "source": [
    "plt.hist(x_1, color='darkorange');"
   ]
  },
  {
   "cell_type": "code",
   "execution_count": 55,
   "metadata": {},
   "outputs": [
    {
     "name": "stdout",
     "output_type": "stream",
     "text": [
      "Pearson p-value=0.63\n"
     ]
    }
   ],
   "source": [
    "print('Pearson p-value={:.2f}'.format(st.pearsonr(x_0, x_1)[1]))"
   ]
  },
  {
   "cell_type": "markdown",
   "metadata": {},
   "source": [
    "#### 3) Коэффициент корреляции Кендалла по исходной выборке (без удаления выбросов)"
   ]
  },
  {
   "cell_type": "code",
   "execution_count": 57,
   "metadata": {},
   "outputs": [
    {
     "name": "stdout",
     "output_type": "stream",
     "text": [
      "Coeff=0.03\n"
     ]
    }
   ],
   "source": [
    "print('Coeff={:.2f}'.format(st.kendalltau(x[0], x[1])[0]))"
   ]
  },
  {
   "cell_type": "code",
   "execution_count": null,
   "metadata": {},
   "outputs": [],
   "source": []
  }
 ],
 "metadata": {
  "kernelspec": {
   "display_name": "Python 3",
   "language": "python",
   "name": "python3"
  },
  "language_info": {
   "codemirror_mode": {
    "name": "ipython",
    "version": 3
   },
   "file_extension": ".py",
   "mimetype": "text/x-python",
   "name": "python",
   "nbconvert_exporter": "python",
   "pygments_lexer": "ipython3",
   "version": "3.7.6"
  }
 },
 "nbformat": 4,
 "nbformat_minor": 4
}
