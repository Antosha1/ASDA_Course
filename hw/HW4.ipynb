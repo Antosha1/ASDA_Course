{
 "cells": [
  {
   "cell_type": "code",
   "execution_count": 89,
   "metadata": {},
   "outputs": [],
   "source": [
    "import pandas as pd\n",
    "import numpy as np\n",
    "import matplotlib.pyplot as plt\n",
    "import seaborn as sns\n",
    "from  statsmodels.stats.weightstats import ttest_ind\n",
    "from itertools import permutations, combinations\n",
    "import scipy.stats as st"
   ]
  },
  {
   "cell_type": "code",
   "execution_count": 130,
   "metadata": {},
   "outputs": [],
   "source": [
    "data = pd.read_csv('../data/sotnikov.ad_hw4.csv', header=None)"
   ]
  },
  {
   "cell_type": "code",
   "execution_count": 131,
   "metadata": {},
   "outputs": [
    {
     "data": {
      "text/html": [
       "<div>\n",
       "<style scoped>\n",
       "    .dataframe tbody tr th:only-of-type {\n",
       "        vertical-align: middle;\n",
       "    }\n",
       "\n",
       "    .dataframe tbody tr th {\n",
       "        vertical-align: top;\n",
       "    }\n",
       "\n",
       "    .dataframe thead th {\n",
       "        text-align: right;\n",
       "    }\n",
       "</style>\n",
       "<table border=\"1\" class=\"dataframe\">\n",
       "  <thead>\n",
       "    <tr style=\"text-align: right;\">\n",
       "      <th></th>\n",
       "      <th>0</th>\n",
       "      <th>1</th>\n",
       "      <th>2</th>\n",
       "      <th>3</th>\n",
       "      <th>4</th>\n",
       "      <th>5</th>\n",
       "      <th>6</th>\n",
       "    </tr>\n",
       "  </thead>\n",
       "  <tbody>\n",
       "    <tr>\n",
       "      <th>0</th>\n",
       "      <td>-0.205596</td>\n",
       "      <td>-1.215910</td>\n",
       "      <td>1.081042</td>\n",
       "      <td>-0.394865</td>\n",
       "      <td>0.551866</td>\n",
       "      <td>-1.239099</td>\n",
       "      <td>3.286233</td>\n",
       "    </tr>\n",
       "    <tr>\n",
       "      <th>1</th>\n",
       "      <td>-0.716905</td>\n",
       "      <td>-1.351013</td>\n",
       "      <td>-1.707242</td>\n",
       "      <td>-0.681160</td>\n",
       "      <td>-0.229419</td>\n",
       "      <td>-0.193524</td>\n",
       "      <td>0.314508</td>\n",
       "    </tr>\n",
       "    <tr>\n",
       "      <th>2</th>\n",
       "      <td>0.687389</td>\n",
       "      <td>-1.848718</td>\n",
       "      <td>-0.047388</td>\n",
       "      <td>-0.528018</td>\n",
       "      <td>-0.442669</td>\n",
       "      <td>-0.862317</td>\n",
       "      <td>1.334345</td>\n",
       "    </tr>\n",
       "    <tr>\n",
       "      <th>3</th>\n",
       "      <td>-0.991881</td>\n",
       "      <td>0.064409</td>\n",
       "      <td>-0.834084</td>\n",
       "      <td>-1.195899</td>\n",
       "      <td>0.806054</td>\n",
       "      <td>-0.951557</td>\n",
       "      <td>-0.520300</td>\n",
       "    </tr>\n",
       "    <tr>\n",
       "      <th>4</th>\n",
       "      <td>-2.720189</td>\n",
       "      <td>-1.993786</td>\n",
       "      <td>0.703941</td>\n",
       "      <td>-2.937643</td>\n",
       "      <td>0.118609</td>\n",
       "      <td>-0.398863</td>\n",
       "      <td>-1.150798</td>\n",
       "    </tr>\n",
       "  </tbody>\n",
       "</table>\n",
       "</div>"
      ],
      "text/plain": [
       "          0         1         2         3         4         5         6\n",
       "0 -0.205596 -1.215910  1.081042 -0.394865  0.551866 -1.239099  3.286233\n",
       "1 -0.716905 -1.351013 -1.707242 -0.681160 -0.229419 -0.193524  0.314508\n",
       "2  0.687389 -1.848718 -0.047388 -0.528018 -0.442669 -0.862317  1.334345\n",
       "3 -0.991881  0.064409 -0.834084 -1.195899  0.806054 -0.951557 -0.520300\n",
       "4 -2.720189 -1.993786  0.703941 -2.937643  0.118609 -0.398863 -1.150798"
      ]
     },
     "execution_count": 131,
     "metadata": {},
     "output_type": "execute_result"
    }
   ],
   "source": [
    "data.head()"
   ]
  },
  {
   "cell_type": "code",
   "execution_count": 132,
   "metadata": {},
   "outputs": [
    {
     "data": {
      "text/html": [
       "<div>\n",
       "<style scoped>\n",
       "    .dataframe tbody tr th:only-of-type {\n",
       "        vertical-align: middle;\n",
       "    }\n",
       "\n",
       "    .dataframe tbody tr th {\n",
       "        vertical-align: top;\n",
       "    }\n",
       "\n",
       "    .dataframe thead th {\n",
       "        text-align: right;\n",
       "    }\n",
       "</style>\n",
       "<table border=\"1\" class=\"dataframe\">\n",
       "  <thead>\n",
       "    <tr style=\"text-align: right;\">\n",
       "      <th></th>\n",
       "      <th>0</th>\n",
       "      <th>1</th>\n",
       "      <th>2</th>\n",
       "      <th>3</th>\n",
       "      <th>4</th>\n",
       "      <th>5</th>\n",
       "      <th>6</th>\n",
       "    </tr>\n",
       "  </thead>\n",
       "  <tbody>\n",
       "    <tr>\n",
       "      <th>count</th>\n",
       "      <td>30.000000</td>\n",
       "      <td>30.000000</td>\n",
       "      <td>30.000000</td>\n",
       "      <td>30.000000</td>\n",
       "      <td>30.000000</td>\n",
       "      <td>30.000000</td>\n",
       "      <td>30.000000</td>\n",
       "    </tr>\n",
       "    <tr>\n",
       "      <th>mean</th>\n",
       "      <td>-0.701458</td>\n",
       "      <td>-1.331023</td>\n",
       "      <td>0.475301</td>\n",
       "      <td>-0.934168</td>\n",
       "      <td>0.059500</td>\n",
       "      <td>-0.705366</td>\n",
       "      <td>1.058050</td>\n",
       "    </tr>\n",
       "    <tr>\n",
       "      <th>std</th>\n",
       "      <td>1.030555</td>\n",
       "      <td>0.870933</td>\n",
       "      <td>0.991702</td>\n",
       "      <td>0.981636</td>\n",
       "      <td>0.861762</td>\n",
       "      <td>0.982651</td>\n",
       "      <td>1.058005</td>\n",
       "    </tr>\n",
       "    <tr>\n",
       "      <th>min</th>\n",
       "      <td>-2.720189</td>\n",
       "      <td>-3.820915</td>\n",
       "      <td>-1.707242</td>\n",
       "      <td>-2.997195</td>\n",
       "      <td>-1.912362</td>\n",
       "      <td>-2.333580</td>\n",
       "      <td>-1.150798</td>\n",
       "    </tr>\n",
       "    <tr>\n",
       "      <th>25%</th>\n",
       "      <td>-1.448247</td>\n",
       "      <td>-1.720042</td>\n",
       "      <td>0.029798</td>\n",
       "      <td>-1.442339</td>\n",
       "      <td>-0.458022</td>\n",
       "      <td>-1.545760</td>\n",
       "      <td>0.273290</td>\n",
       "    </tr>\n",
       "    <tr>\n",
       "      <th>50%</th>\n",
       "      <td>-0.635411</td>\n",
       "      <td>-1.380081</td>\n",
       "      <td>0.466465</td>\n",
       "      <td>-0.818275</td>\n",
       "      <td>0.222358</td>\n",
       "      <td>-0.985346</td>\n",
       "      <td>0.993464</td>\n",
       "    </tr>\n",
       "    <tr>\n",
       "      <th>75%</th>\n",
       "      <td>-0.208946</td>\n",
       "      <td>-0.821177</td>\n",
       "      <td>1.112126</td>\n",
       "      <td>-0.347125</td>\n",
       "      <td>0.626385</td>\n",
       "      <td>-0.127606</td>\n",
       "      <td>1.608570</td>\n",
       "    </tr>\n",
       "    <tr>\n",
       "      <th>max</th>\n",
       "      <td>1.344145</td>\n",
       "      <td>0.213012</td>\n",
       "      <td>2.582006</td>\n",
       "      <td>1.251732</td>\n",
       "      <td>1.842147</td>\n",
       "      <td>1.782408</td>\n",
       "      <td>3.711286</td>\n",
       "    </tr>\n",
       "  </tbody>\n",
       "</table>\n",
       "</div>"
      ],
      "text/plain": [
       "               0          1          2          3          4          5  \\\n",
       "count  30.000000  30.000000  30.000000  30.000000  30.000000  30.000000   \n",
       "mean   -0.701458  -1.331023   0.475301  -0.934168   0.059500  -0.705366   \n",
       "std     1.030555   0.870933   0.991702   0.981636   0.861762   0.982651   \n",
       "min    -2.720189  -3.820915  -1.707242  -2.997195  -1.912362  -2.333580   \n",
       "25%    -1.448247  -1.720042   0.029798  -1.442339  -0.458022  -1.545760   \n",
       "50%    -0.635411  -1.380081   0.466465  -0.818275   0.222358  -0.985346   \n",
       "75%    -0.208946  -0.821177   1.112126  -0.347125   0.626385  -0.127606   \n",
       "max     1.344145   0.213012   2.582006   1.251732   1.842147   1.782408   \n",
       "\n",
       "               6  \n",
       "count  30.000000  \n",
       "mean    1.058050  \n",
       "std     1.058005  \n",
       "min    -1.150798  \n",
       "25%     0.273290  \n",
       "50%     0.993464  \n",
       "75%     1.608570  \n",
       "max     3.711286  "
      ]
     },
     "execution_count": 132,
     "metadata": {},
     "output_type": "execute_result"
    }
   ],
   "source": [
    "data.describe()"
   ]
  },
  {
   "cell_type": "code",
   "execution_count": 133,
   "metadata": {},
   "outputs": [
    {
     "data": {
      "text/plain": [
       "7"
      ]
     },
     "execution_count": 133,
     "metadata": {},
     "output_type": "execute_result"
    }
   ],
   "source": [
    "data.shape[1]"
   ]
  },
  {
   "cell_type": "code",
   "execution_count": 134,
   "metadata": {},
   "outputs": [
    {
     "name": "stdout",
     "output_type": "stream",
     "text": [
      "0 1\n",
      "0 2\n",
      "0 3\n",
      "0 4\n",
      "0 5\n",
      "0 6\n",
      "1 2\n",
      "1 3\n",
      "1 4\n",
      "1 5\n",
      "1 6\n",
      "2 3\n",
      "2 4\n",
      "2 5\n",
      "2 6\n",
      "3 4\n",
      "3 5\n",
      "3 6\n",
      "4 5\n",
      "4 6\n",
      "5 6\n"
     ]
    }
   ],
   "source": [
    "vombo = combinations(list(data.columns), 2)\n",
    "for x, y in vombo:\n",
    "    print(x, y)"
   ]
  },
  {
   "cell_type": "markdown",
   "metadata": {},
   "source": [
    "#### 1) Воспользуемся t-критерем для сравнения средних для всех пар столбцов из выборки. Для какого количества пар столбцов отвергается гипотеза о совпадении среднего?"
   ]
  },
  {
   "cell_type": "code",
   "execution_count": 135,
   "metadata": {},
   "outputs": [],
   "source": [
    "x = []\n",
    "for i in range(data.shape[1]):\n",
    "    x.append(list(data[i]))"
   ]
  },
  {
   "cell_type": "code",
   "execution_count": 136,
   "metadata": {},
   "outputs": [
    {
     "name": "stdout",
     "output_type": "stream",
     "text": [
      "16\n"
     ]
    }
   ],
   "source": [
    "column_pairs = 0\n",
    "vombo = combinations(list(data.columns), 2)\n",
    "\n",
    "for first, second in vombo:\n",
    "    if st.ttest_ind(x[first], x[second])[1] <= 0.05:\n",
    "        column_pairs += 1\n",
    "print(column_pairs)"
   ]
  },
  {
   "cell_type": "markdown",
   "metadata": {},
   "source": [
    "Получаем 16 cnолбцов"
   ]
  },
  {
   "cell_type": "markdown",
   "metadata": {},
   "source": [
    "#### 2) Значение уровня значимости при введении поправки Бонферрони (alpha=0.05). Округлить до 3 знака после запятой"
   ]
  },
  {
   "cell_type": "code",
   "execution_count": 137,
   "metadata": {},
   "outputs": [],
   "source": [
    "p_values = []\n",
    "vombo = combinations(list(data.columns), 2)\n",
    "for first, second in vombo:\n",
    "    p_values.append(st.ttest_ind(x[first], x[second])[1])"
   ]
  },
  {
   "cell_type": "code",
   "execution_count": 138,
   "metadata": {},
   "outputs": [],
   "source": [
    "from statsmodels.stats.multitest import multipletests\n",
    "p_adjusted = multipletests(p_values, alpha=0.05, method='bonferroni')"
   ]
  },
  {
   "cell_type": "code",
   "execution_count": 139,
   "metadata": {},
   "outputs": [
    {
     "data": {
      "text/plain": [
       "(array([False,  True, False, False, False,  True,  True, False,  True,\n",
       "        False,  True,  True, False,  True, False,  True, False,  True,\n",
       "         True,  True,  True]),\n",
       " array([2.78106850e-01, 6.81966518e-04, 1.00000000e+00, 6.22144456e-02,\n",
       "        1.00000000e+00, 3.84541451e-07, 9.02577177e-09, 1.00000000e+00,\n",
       "        1.25617098e-06, 2.41645548e-01, 3.50465871e-12, 1.66400564e-05,\n",
       "        1.00000000e+00, 4.39360152e-04, 6.66186215e-01, 2.18794104e-03,\n",
       "        1.00000000e+00, 7.03124663e-09, 4.60919449e-02, 3.71504664e-03,\n",
       "        2.04499598e-07]),\n",
       " 0.002439557259668823,\n",
       " 0.002380952380952381)"
      ]
     },
     "execution_count": 139,
     "metadata": {},
     "output_type": "execute_result"
    }
   ],
   "source": [
    "p_adjusted"
   ]
  },
  {
   "cell_type": "code",
   "execution_count": 140,
   "metadata": {},
   "outputs": [
    {
     "data": {
      "text/plain": [
       "0.002"
      ]
     },
     "execution_count": 140,
     "metadata": {},
     "output_type": "execute_result"
    }
   ],
   "source": [
    "round(p_adjusted[-1], 3)"
   ]
  },
  {
   "cell_type": "markdown",
   "metadata": {},
   "source": [
    "#### 3) Для какого количества пар столбцов отвергается гипотеза о совпадении среднего при использовании поправки Бонферрони? "
   ]
  },
  {
   "cell_type": "code",
   "execution_count": 141,
   "metadata": {},
   "outputs": [
    {
     "data": {
      "text/plain": [
       "(array([False,  True, False, False, False,  True,  True, False,  True,\n",
       "        False,  True,  True, False,  True, False,  True, False,  True,\n",
       "         True,  True,  True]),\n",
       " array([2.78106850e-01, 6.81966518e-04, 1.00000000e+00, 6.22144456e-02,\n",
       "        1.00000000e+00, 3.84541451e-07, 9.02577177e-09, 1.00000000e+00,\n",
       "        1.25617098e-06, 2.41645548e-01, 3.50465871e-12, 1.66400564e-05,\n",
       "        1.00000000e+00, 4.39360152e-04, 6.66186215e-01, 2.18794104e-03,\n",
       "        1.00000000e+00, 7.03124663e-09, 4.60919449e-02, 3.71504664e-03,\n",
       "        2.04499598e-07]),\n",
       " 0.002439557259668823,\n",
       " 0.002380952380952381)"
      ]
     },
     "execution_count": 141,
     "metadata": {},
     "output_type": "execute_result"
    }
   ],
   "source": [
    "p_adjusted"
   ]
  },
  {
   "cell_type": "code",
   "execution_count": 142,
   "metadata": {},
   "outputs": [
    {
     "data": {
      "text/plain": [
       "12"
      ]
     },
     "execution_count": 142,
     "metadata": {},
     "output_type": "execute_result"
    }
   ],
   "source": [
    "p_adjusted[0].sum()"
   ]
  },
  {
   "cell_type": "markdown",
   "metadata": {},
   "source": [
    "#### 4) Для какого количества пар столбцов отвергается гипотеза о совпадении среднего при использовании метода Холма?"
   ]
  },
  {
   "cell_type": "code",
   "execution_count": 143,
   "metadata": {},
   "outputs": [],
   "source": [
    "p_adjusted = multipletests(p_values, alpha=0.05, method='holm')"
   ]
  },
  {
   "cell_type": "code",
   "execution_count": 144,
   "metadata": {},
   "outputs": [
    {
     "data": {
      "text/plain": [
       "(array([False,  True, False,  True, False,  True,  True, False,  True,\n",
       "        False,  True,  True, False,  True, False,  True, False,  True,\n",
       "         True,  True,  True]),\n",
       " array([9.27022833e-02, 4.22169749e-04, 1.00000000e+00, 2.66633338e-02,\n",
       "        1.00000000e+00, 3.11295460e-07, 8.16617446e-09, 4.41643022e-01,\n",
       "        9.57082655e-07, 9.20554469e-02, 3.50465871e-12, 1.18857546e-05,\n",
       "        4.41643022e-01, 2.92906768e-04, 1.90338919e-01, 1.25025202e-03,\n",
       "        1.00000000e+00, 6.69642536e-09, 2.19485452e-02, 1.94597681e-03,\n",
       "        1.75285370e-07]),\n",
       " 0.002439557259668823,\n",
       " 0.002380952380952381)"
      ]
     },
     "execution_count": 144,
     "metadata": {},
     "output_type": "execute_result"
    }
   ],
   "source": [
    "p_adjusted"
   ]
  },
  {
   "cell_type": "code",
   "execution_count": 145,
   "metadata": {},
   "outputs": [
    {
     "data": {
      "text/plain": [
       "13"
      ]
     },
     "execution_count": 145,
     "metadata": {},
     "output_type": "execute_result"
    }
   ],
   "source": [
    "p_adjusted[0].sum()"
   ]
  },
  {
   "cell_type": "markdown",
   "metadata": {},
   "source": [
    "#### 5) Оценка m0 по методу Шведера-Спьётволла (lambda = 0.5)"
   ]
  },
  {
   "cell_type": "code",
   "execution_count": 146,
   "metadata": {},
   "outputs": [],
   "source": [
    "def hujna(p_values, lambda_=0.5):\n",
    "    return (1/(1-lambda_) * (1+sum(map(lambda x: 1 if x > lambda_ else 0, p_values))))    "
   ]
  },
  {
   "cell_type": "code",
   "execution_count": 147,
   "metadata": {},
   "outputs": [
    {
     "data": {
      "text/plain": [
       "4.0"
      ]
     },
     "execution_count": 147,
     "metadata": {},
     "output_type": "execute_result"
    }
   ],
   "source": [
    "hujna(p_values)"
   ]
  },
  {
   "cell_type": "code",
   "execution_count": null,
   "metadata": {},
   "outputs": [],
   "source": []
  }
 ],
 "metadata": {
  "kernelspec": {
   "display_name": "Python 3",
   "language": "python",
   "name": "python3"
  },
  "language_info": {
   "codemirror_mode": {
    "name": "ipython",
    "version": 3
   },
   "file_extension": ".py",
   "mimetype": "text/x-python",
   "name": "python",
   "nbconvert_exporter": "python",
   "pygments_lexer": "ipython3",
   "version": "3.7.6"
  }
 },
 "nbformat": 4,
 "nbformat_minor": 4
}
